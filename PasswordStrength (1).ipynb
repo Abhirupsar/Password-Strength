{
 "cells": [
  {
   "cell_type": "markdown",
   "metadata": {},
   "source": [
    "## Check Password Strength Using ML algorithms"
   ]
  },
  {
   "cell_type": "code",
   "execution_count": 2,
   "metadata": {},
   "outputs": [],
   "source": [
    "import pandas as pd\n",
    "import numpy as np"
   ]
  },
  {
   "cell_type": "code",
   "execution_count": 3,
   "metadata": {},
   "outputs": [
    {
     "name": "stderr",
     "output_type": "stream",
     "text": [
      "b'Skipping line 2810: expected 2 fields, saw 5\\nSkipping line 4641: expected 2 fields, saw 5\\nSkipping line 7171: expected 2 fields, saw 5\\n'\n"
     ]
    }
   ],
   "source": [
    "data = pd.read_csv('data.csv',',',error_bad_lines=False, nrows = 8000)"
   ]
  },
  {
   "cell_type": "code",
   "execution_count": 4,
   "metadata": {},
   "outputs": [
    {
     "data": {
      "application/vnd.jupyter.widget-view+json": {
       "model_id": "891968dccc09415d925c1a2e68c65cb8"
      },
      "text/html": [
       "<div>\n",
       "<style scoped>\n",
       "    .dataframe tbody tr th:only-of-type {\n",
       "        vertical-align: middle;\n",
       "    }\n",
       "\n",
       "    .dataframe tbody tr th {\n",
       "        vertical-align: top;\n",
       "    }\n",
       "\n",
       "    .dataframe thead th {\n",
       "        text-align: right;\n",
       "    }\n",
       "</style>\n",
       "<table border=\"1\" class=\"dataframe\">\n",
       "  <thead>\n",
       "    <tr style=\"text-align: right;\">\n",
       "      <th></th>\n",
       "      <th>password</th>\n",
       "      <th>strength</th>\n",
       "    </tr>\n",
       "  </thead>\n",
       "  <tbody>\n",
       "    <tr>\n",
       "      <th>0</th>\n",
       "      <td>kzde5577</td>\n",
       "      <td>1</td>\n",
       "    </tr>\n",
       "    <tr>\n",
       "      <th>1</th>\n",
       "      <td>kino3434</td>\n",
       "      <td>1</td>\n",
       "    </tr>\n",
       "    <tr>\n",
       "      <th>2</th>\n",
       "      <td>visi7k1yr</td>\n",
       "      <td>1</td>\n",
       "    </tr>\n",
       "    <tr>\n",
       "      <th>3</th>\n",
       "      <td>megzy123</td>\n",
       "      <td>1</td>\n",
       "    </tr>\n",
       "    <tr>\n",
       "      <th>4</th>\n",
       "      <td>lamborghin1</td>\n",
       "      <td>1</td>\n",
       "    </tr>\n",
       "  </tbody>\n",
       "</table>\n",
       "</div>"
      ],
      "text/plain": [
       "      password  strength\n",
       "0     kzde5577         1\n",
       "1     kino3434         1\n",
       "2    visi7k1yr         1\n",
       "3     megzy123         1\n",
       "4  lamborghin1         1"
      ]
     },
     "metadata": {},
     "output_type": "display_data"
    }
   ],
   "source": [
    "data.head()"
   ]
  },
  {
   "cell_type": "code",
   "execution_count": 5,
   "metadata": {},
   "outputs": [
    {
     "data": {
      "application/vnd.jupyter.widget-view+json": {
       "model_id": "18250d9f7f664a18b05385de5dd65ce3"
      },
      "text/html": [
       "<div>\n",
       "<style scoped>\n",
       "    .dataframe tbody tr th:only-of-type {\n",
       "        vertical-align: middle;\n",
       "    }\n",
       "\n",
       "    .dataframe tbody tr th {\n",
       "        vertical-align: top;\n",
       "    }\n",
       "\n",
       "    .dataframe thead th {\n",
       "        text-align: right;\n",
       "    }\n",
       "</style>\n",
       "<table border=\"1\" class=\"dataframe\">\n",
       "  <thead>\n",
       "    <tr style=\"text-align: right;\">\n",
       "      <th></th>\n",
       "      <th>password</th>\n",
       "      <th>strength</th>\n",
       "    </tr>\n",
       "  </thead>\n",
       "  <tbody>\n",
       "  </tbody>\n",
       "</table>\n",
       "</div>"
      ],
      "text/plain": [
       "Empty DataFrame\n",
       "Columns: [password, strength]\n",
       "Index: []"
      ]
     },
     "metadata": {},
     "output_type": "display_data"
    }
   ],
   "source": [
    "data[data['password'].isnull()]"
   ]
  },
  {
   "cell_type": "code",
   "execution_count": 6,
   "metadata": {},
   "outputs": [],
   "source": [
    "data.dropna(inplace=True)"
   ]
  },
  {
   "cell_type": "code",
   "execution_count": 7,
   "metadata": {},
   "outputs": [],
   "source": [
    "passwords_tuple=np.array(data)"
   ]
  },
  {
   "cell_type": "code",
   "execution_count": 8,
   "metadata": {},
   "outputs": [
    {
     "data": {
      "text/plain": [
       "array([['kzde5577', 1],\n",
       "       ['kino3434', 1],\n",
       "       ['visi7k1yr', 1],\n",
       "       ...,\n",
       "       ['t2upy1n5yza', 1],\n",
       "       ['64vcrg1v', 1],\n",
       "       ['jordanr11', 1]], dtype=object)"
      ]
     },
     "execution_count": 8,
     "metadata": {},
     "output_type": "execute_result"
    }
   ],
   "source": [
    "passwords_tuple"
   ]
  },
  {
   "cell_type": "code",
   "execution_count": 9,
   "metadata": {},
   "outputs": [],
   "source": [
    "import random\n",
    "random.shuffle(passwords_tuple) #shuffling randomly for robustness\n"
   ]
  },
  {
   "cell_type": "code",
   "execution_count": 10,
   "metadata": {},
   "outputs": [],
   "source": [
    "y=[labels[1] for labels in passwords_tuple]"
   ]
  },
  {
   "cell_type": "code",
   "execution_count": 11,
   "metadata": {},
   "outputs": [
    {
     "data": {
      "text/plain": [
       "[1, 1, 1, 1, 1, 2, 2, 1, 1, 1]"
      ]
     },
     "execution_count": 11,
     "metadata": {},
     "output_type": "execute_result"
    }
   ],
   "source": [
    "y[0:10]"
   ]
  },
  {
   "cell_type": "code",
   "execution_count": 12,
   "metadata": {},
   "outputs": [],
   "source": [
    "X=[labels[0] for labels in passwords_tuple]"
   ]
  },
  {
   "cell_type": "code",
   "execution_count": 13,
   "metadata": {},
   "outputs": [
    {
     "data": {
      "text/plain": [
       "['kzde5577',\n",
       " 'kzde5577',\n",
       " 'kzde5577',\n",
       " 'kino3434',\n",
       " 'kino3434',\n",
       " 'AVYq1lDE4MgAZfNt',\n",
       " 'AVYq1lDE4MgAZfNt',\n",
       " 'megzy123',\n",
       " 'v1118714',\n",
       " 'universe2908']"
      ]
     },
     "execution_count": 13,
     "metadata": {},
     "output_type": "execute_result"
    }
   ],
   "source": [
    "X[0:10]"
   ]
  },
  {
   "cell_type": "code",
   "execution_count": 14,
   "metadata": {},
   "outputs": [],
   "source": [
    "import seaborn as sns"
   ]
  },
  {
   "cell_type": "code",
   "execution_count": 15,
   "metadata": {},
   "outputs": [
    {
     "data": {
      "text/plain": [
       "<matplotlib.axes._subplots.AxesSubplot at 0x1c7ec28b808>"
      ]
     },
     "execution_count": 15,
     "metadata": {},
     "output_type": "execute_result"
    },
    {
     "data": {
      "image/png": "[encoded data removed]",
      "text/plain": [
       "<Figure size 432x288 with 1 Axes>"
      ]
     },
     "metadata": {
      "needs_background": "light"
     },
     "output_type": "display_data"
    }
   ],
   "source": [
    "sns.countplot(x='strength',data=data,palette='RdBu_r')"
   ]
  },
  {
   "cell_type": "code",
   "execution_count": 16,
   "metadata": {},
   "outputs": [
    {
     "data": {
      "text/plain": [
       "(8000, 2)"
      ]
     },
     "execution_count": 16,
     "metadata": {},
     "output_type": "execute_result"
    }
   ],
   "source": [
    "data.shape"
   ]
  },
  {
   "cell_type": "code",
   "execution_count": 17,
   "metadata": {},
   "outputs": [],
   "source": [
    "def word_divide_char(inputs):\n",
    "    characters=[]\n",
    "    for i in inputs:\n",
    "        characters.append(i)\n",
    "    return characters"
   ]
  },
  {
   "cell_type": "code",
   "execution_count": 18,
   "metadata": {},
   "outputs": [],
   "source": [
    "from sklearn.feature_extraction.text import TfidfVectorizer\n",
    "vectorizer=TfidfVectorizer(tokenizer=word_divide_char)\n",
    "X_tr=vectorizer.fit_transform(X)"
   ]
  },
  {
   "cell_type": "code",
   "execution_count": 19,
   "metadata": {},
   "outputs": [
    {
     "data": {
      "text/plain": [
       "(8000, 61)"
      ]
     },
     "execution_count": 19,
     "metadata": {},
     "output_type": "execute_result"
    }
   ],
   "source": [
    "X_tr.shape"
   ]
  },
  {
   "cell_type": "code",
   "execution_count": 20,
   "metadata": {},
   "outputs": [
    {
     "data": {
      "text/plain": [
       "{'k': 40,\n",
       " 'z': 55,\n",
       " 'd': 33,\n",
       " 'e': 34,\n",
       " '5': 18,\n",
       " '7': 20,\n",
       " 'i': 38,\n",
       " 'n': 43,\n",
       " 'o': 44,\n",
       " '3': 16,\n",
       " '4': 17,\n",
       " 'a': 30,\n",
       " 'v': 51,\n",
       " 'y': 54,\n",
       " 'q': 46,\n",
       " '1': 14,\n",
       " 'l': 41,\n",
       " 'm': 42,\n",
       " 'g': 36,\n",
       " 'f': 35,\n",
       " 't': 49,\n",
       " '2': 15,\n",
       " '8': 21,\n",
       " 'u': 50,\n",
       " 'r': 47,\n",
       " 's': 48,\n",
       " '9': 22,\n",
       " '0': 13,\n",
       " 'b': 31,\n",
       " 'h': 37,\n",
       " 'j': 39,\n",
       " '6': 19,\n",
       " '-': 10,\n",
       " 'c': 32,\n",
       " '@': 27,\n",
       " 'w': 52,\n",
       " 'p': 45,\n",
       " 'x': 53,\n",
       " '.': 11,\n",
       " '&': 5,\n",
       " '?': 26,\n",
       " '>': 25,\n",
       " '<': 24,\n",
       " '!': 1,\n",
       " ';': 23,\n",
       " '%': 4,\n",
       " '_': 29,\n",
       " ' ': 0,\n",
       " '$': 3,\n",
       " '±': 57,\n",
       " '(': 6,\n",
       " ')': 7,\n",
       " '#': 2,\n",
       " '^': 28,\n",
       " '*': 8,\n",
       " '/': 12,\n",
       " 'ú': 59,\n",
       " 'þ': 60,\n",
       " 'ó': 58,\n",
       " '+': 9,\n",
       " '~': 56}"
      ]
     },
     "execution_count": 20,
     "metadata": {},
     "output_type": "execute_result"
    }
   ],
   "source": [
    "vectorizer.vocabulary_"
   ]
  },
  {
   "cell_type": "code",
   "execution_count": 21,
   "metadata": {},
   "outputs": [
    {
     "data": {
      "text/plain": [
       "<1x61 sparse matrix of type '<class 'numpy.float64'>'\n",
       "\twith 6 stored elements in Compressed Sparse Row format>"
      ]
     },
     "execution_count": 21,
     "metadata": {},
     "output_type": "execute_result"
    }
   ],
   "source": [
    "X_tr[10]"
   ]
  },
  {
   "cell_type": "code",
   "execution_count": 22,
   "metadata": {},
   "outputs": [
    {
     "data": {
      "text/plain": [
       "'kzde5577'"
      ]
     },
     "execution_count": 22,
     "metadata": {},
     "output_type": "execute_result"
    }
   ],
   "source": [
    "data.iloc[0,0]"
   ]
  },
  {
   "cell_type": "code",
   "execution_count": 23,
   "metadata": {},
   "outputs": [
    {
     "data": {
      "application/vnd.jupyter.widget-view+json": {
       "model_id": "db5ad13473f94236a3641cdbdf23fe35"
      },
      "text/html": [
       "<div>\n",
       "<style scoped>\n",
       "    .dataframe tbody tr th:only-of-type {\n",
       "        vertical-align: middle;\n",
       "    }\n",
       "\n",
       "    .dataframe tbody tr th {\n",
       "        vertical-align: top;\n",
       "    }\n",
       "\n",
       "    .dataframe thead th {\n",
       "        text-align: right;\n",
       "    }\n",
       "</style>\n",
       "<table border=\"1\" class=\"dataframe\">\n",
       "  <thead>\n",
       "    <tr style=\"text-align: right;\">\n",
       "      <th></th>\n",
       "      <th>tfidf</th>\n",
       "    </tr>\n",
       "  </thead>\n",
       "  <tbody>\n",
       "    <tr>\n",
       "      <th>7</th>\n",
       "      <td>0.594626</td>\n",
       "    </tr>\n",
       "    <tr>\n",
       "      <th>5</th>\n",
       "      <td>0.565739</td>\n",
       "    </tr>\n",
       "    <tr>\n",
       "      <th>z</th>\n",
       "      <td>0.338211</td>\n",
       "    </tr>\n",
       "    <tr>\n",
       "      <th>k</th>\n",
       "      <td>0.287773</td>\n",
       "    </tr>\n",
       "    <tr>\n",
       "      <th>d</th>\n",
       "      <td>0.285559</td>\n",
       "    </tr>\n",
       "    <tr>\n",
       "      <th>...</th>\n",
       "      <td>...</td>\n",
       "    </tr>\n",
       "    <tr>\n",
       "      <th>?</th>\n",
       "      <td>0.000000</td>\n",
       "    </tr>\n",
       "    <tr>\n",
       "      <th>@</th>\n",
       "      <td>0.000000</td>\n",
       "    </tr>\n",
       "    <tr>\n",
       "      <th>^</th>\n",
       "      <td>0.000000</td>\n",
       "    </tr>\n",
       "    <tr>\n",
       "      <th>_</th>\n",
       "      <td>0.000000</td>\n",
       "    </tr>\n",
       "    <tr>\n",
       "      <th>þ</th>\n",
       "      <td>0.000000</td>\n",
       "    </tr>\n",
       "  </tbody>\n",
       "</table>\n",
       "<p>61 rows × 1 columns</p>\n",
       "</div>"
      ],
      "text/plain": [
       "       tfidf\n",
       "7   0.594626\n",
       "5   0.565739\n",
       "z   0.338211\n",
       "k   0.287773\n",
       "d   0.285559\n",
       "..       ...\n",
       "?   0.000000\n",
       "@   0.000000\n",
       "^   0.000000\n",
       "_   0.000000\n",
       "þ   0.000000\n",
       "\n",
       "[61 rows x 1 columns]"
      ]
     },
     "metadata": {},
     "output_type": "display_data"
    }
   ],
   "source": [
    "feature_names = vectorizer.get_feature_names()\n",
    " \n",
    "#get tfidf vector for first document\n",
    "first_document_vector=X_tr[0]\n",
    " \n",
    "#print the scores\n",
    "df = pd.DataFrame(first_document_vector.T.todense(), index=feature_names, columns=[\"tfidf\"])\n",
    "df.sort_values(by=[\"tfidf\"],ascending=False)"
   ]
  },
  {
   "cell_type": "markdown",
   "metadata": {},
   "source": [
    "## Logistics Regression"
   ]
  },
  {
   "cell_type": "code",
   "execution_count": 24,
   "metadata": {},
   "outputs": [],
   "source": [
    "from sklearn.linear_model import LogisticRegression"
   ]
  },
  {
   "cell_type": "code",
   "execution_count": 25,
   "metadata": {},
   "outputs": [],
   "source": [
    "from sklearn.model_selection import train_test_split\n",
    "X_train, X_test, y_train, y_test = train_test_split(X_tr, y, test_size=0.20, random_state=42)  #splitting"
   ]
  },
  {
   "cell_type": "code",
   "execution_count": 26,
   "metadata": {},
   "outputs": [],
   "source": [
    "log_class=LogisticRegression(penalty='l2',multi_class='ovr')\n",
    "log_class.fit(X_train,y_train)\n",
    "\n",
    "y_predict = log_class.predict(X_test)"
   ]
  },
  {
   "cell_type": "code",
   "execution_count": 27,
   "metadata": {},
   "outputs": [
    {
     "name": "stdout",
     "output_type": "stream",
     "text": [
      "[[  26  230    1]\n",
      " [  16 1128   10]\n",
      " [   2  118   69]]\n",
      "0.764375\n",
      "              precision    recall  f1-score   support\n",
      "\n",
      "           0       0.59      0.10      0.17       257\n",
      "           1       0.76      0.98      0.86      1154\n",
      "           2       0.86      0.37      0.51       189\n",
      "\n",
      "    accuracy                           0.76      1600\n",
      "   macro avg       0.74      0.48      0.51      1600\n",
      "weighted avg       0.75      0.76      0.71      1600\n",
      "\n"
     ]
    }
   ],
   "source": [
    "from sklearn.metrics import confusion_matrix,classification_report,accuracy_score\n",
    "\n",
    "print(confusion_matrix(y_test,y_predict))\n",
    "print(accuracy_score(y_test,y_predict))\n",
    "print(classification_report(y_test,y_predict))"
   ]
  },
  {
   "cell_type": "code",
   "execution_count": 28,
   "metadata": {},
   "outputs": [
    {
     "name": "stdout",
     "output_type": "stream",
     "text": [
      "0.781875\n"
     ]
    }
   ],
   "source": [
    "## Multinomial logistic classification\n",
    "clf = LogisticRegression(random_state=0, multi_class='multinomial', solver='newton-cg')\n",
    "clf.fit(X_train, y_train) #training\n",
    "print(clf.score(X_test, y_test))"
   ]
  },
  {
   "cell_type": "code",
   "execution_count": 29,
   "metadata": {},
   "outputs": [],
   "source": [
    "y_predict_clf = clf.predict(X_test)"
   ]
  },
  {
   "cell_type": "code",
   "execution_count": 30,
   "metadata": {},
   "outputs": [
    {
     "name": "stdout",
     "output_type": "stream",
     "text": [
      "[[  43  214    0]\n",
      " [  28 1117    9]\n",
      " [   2   96   91]]\n",
      "0.781875\n",
      "              precision    recall  f1-score   support\n",
      "\n",
      "           0       0.59      0.17      0.26       257\n",
      "           1       0.78      0.97      0.87      1154\n",
      "           2       0.91      0.48      0.63       189\n",
      "\n",
      "    accuracy                           0.78      1600\n",
      "   macro avg       0.76      0.54      0.59      1600\n",
      "weighted avg       0.77      0.78      0.74      1600\n",
      "\n"
     ]
    }
   ],
   "source": [
    "print(confusion_matrix(y_test,y_predict_clf))\n",
    "print(accuracy_score(y_test,y_predict_clf))\n",
    "print(classification_report(y_test,y_predict_clf))"
   ]
  },
  {
   "cell_type": "code",
   "execution_count": null,
   "metadata": {},
   "outputs": [],
   "source": []
  },
  {
   "cell_type": "markdown",
   "metadata": {},
   "source": [
    "## XGboost Algorithm"
   ]
  },
  {
   "cell_type": "code",
   "execution_count": 31,
   "metadata": {},
   "outputs": [],
   "source": [
    "import xgboost as xgb"
   ]
  },
  {
   "cell_type": "code",
   "execution_count": 32,
   "metadata": {},
   "outputs": [],
   "source": [
    "xgb_classsifier = xgb.XGBClassifier()"
   ]
  },
  {
   "cell_type": "code",
   "execution_count": 33,
   "metadata": {},
   "outputs": [],
   "source": [
    "xgb_classsifier.fit(X_train, y_train)\n",
    "y_predict_xbg = xgb_classsifier.predict(X_test)"
   ]
  },
  {
   "cell_type": "code",
   "execution_count": 34,
   "metadata": {},
   "outputs": [
    {
     "data": {
      "text/plain": [
       "0.930625"
      ]
     },
     "execution_count": 34,
     "metadata": {},
     "output_type": "execute_result"
    }
   ],
   "source": [
    "xgb_classsifier.score(X_test, y_test)"
   ]
  },
  {
   "cell_type": "code",
   "execution_count": 35,
   "metadata": {},
   "outputs": [
    {
     "name": "stdout",
     "output_type": "stream",
     "text": [
      "[[ 182   75    0]\n",
      " [  21 1128    5]\n",
      " [   0   10  179]]\n",
      "0.930625\n",
      "              precision    recall  f1-score   support\n",
      "\n",
      "           0       0.90      0.71      0.79       257\n",
      "           1       0.93      0.98      0.95      1154\n",
      "           2       0.97      0.95      0.96       189\n",
      "\n",
      "    accuracy                           0.93      1600\n",
      "   macro avg       0.93      0.88      0.90      1600\n",
      "weighted avg       0.93      0.93      0.93      1600\n",
      "\n"
     ]
    }
   ],
   "source": [
    "print(confusion_matrix(y_test,y_predict_xbg))\n",
    "print(accuracy_score(y_test,y_predict_xbg))\n",
    "print(classification_report(y_test,y_predict_xbg))"
   ]
  },
  {
   "cell_type": "code",
   "execution_count": 42,
   "metadata": {},
   "outputs": [],
   "source": [
    "## Hyper Parameter Optimization\n",
    "from sklearn.model_selection import RandomizedSearchCV\n",
    "params_grid={\n",
    " \"learning_rate\"    : [0.05, 0.10, 0.15, 0.20, 0.25, 0.30 ] ,\n",
    " \"max_depth\"        : [ 3, 4, 5, 6, 8, 10, 12, 15],\n",
    " \"min_child_weight\" : [ 1, 3, 5, 7 ],\n",
    " \"gamma\"            : [ 0.0, 0.1, 0.2 , 0.3, 0.4 ],\n",
    " \"colsample_bytree\" : [ 0.3, 0.4, 0.5 , 0.7 ]\n",
    "    \n",
    "}"
   ]
  },
  {
   "cell_type": "code",
   "execution_count": 43,
   "metadata": {},
   "outputs": [
    {
     "name": "stdout",
     "output_type": "stream",
     "text": [
      "Fitting 3 folds for each of 2 candidates, totalling 6 fits\n"
     ]
    },
    {
     "name": "stderr",
     "output_type": "stream",
     "text": [
      "[Parallel(n_jobs=-1)]: Using backend LokyBackend with 4 concurrent workers.\n",
      "[Parallel(n_jobs=-1)]: Done   3 out of   6 | elapsed:   26.4s remaining:   26.4s\n",
      "[Parallel(n_jobs=-1)]: Done   6 out of   6 | elapsed:   33.3s finished\n"
     ]
    },
    {
     "data": {
      "text/plain": [
       "RandomizedSearchCV(cv=3, estimator=XGBClassifier(objective='multi:softprob'),\n",
       "                   n_iter=2, n_jobs=-1,\n",
       "                   param_distributions={'colsample_bytree': [0.3, 0.4, 0.5,\n",
       "                                                             0.7],\n",
       "                                        'gamma': [0.0, 0.1, 0.2, 0.3, 0.4],\n",
       "                                        'learning_rate': [0.05, 0.1, 0.15, 0.2,\n",
       "                                                          0.25, 0.3],\n",
       "                                        'max_depth': [3, 4, 5, 6, 8, 10, 12,\n",
       "                                                      15],\n",
       "                                        'min_child_weight': [1, 3, 5, 7]},\n",
       "                   random_state=100, verbose=2)"
      ]
     },
     "execution_count": 43,
     "metadata": {},
     "output_type": "execute_result"
    }
   ],
   "source": [
    "xg_cl=xgb.XGBClassifier()\n",
    "xg_cl.fit(X_train,y_train)\n",
    "\n",
    "rf_randomcv=RandomizedSearchCV(estimator=xg_cl,param_distributions=params_grid,n_iter=2,cv=3,verbose=2,\n",
    "                               random_state=100,n_jobs=-1)\n",
    "### fit the randomized model\n",
    "rf_randomcv.fit(X_train,y_train)\n"
   ]
  },
  {
   "cell_type": "code",
   "execution_count": 44,
   "metadata": {},
   "outputs": [
    {
     "data": {
      "text/plain": [
       "XGBClassifier(colsample_bytree=0.5, gamma=0.4, learning_rate=0.25, max_depth=12,\n",
       "              objective='multi:softprob')"
      ]
     },
     "execution_count": 44,
     "metadata": {},
     "output_type": "execute_result"
    }
   ],
   "source": [
    "rf_randomcv.best_estimator_"
   ]
  },
  {
   "cell_type": "code",
   "execution_count": 45,
   "metadata": {},
   "outputs": [
    {
     "data": {
      "text/plain": [
       "{'min_child_weight': 1,\n",
       " 'max_depth': 12,\n",
       " 'learning_rate': 0.25,\n",
       " 'gamma': 0.4,\n",
       " 'colsample_bytree': 0.5}"
      ]
     },
     "execution_count": 45,
     "metadata": {},
     "output_type": "execute_result"
    }
   ],
   "source": [
    "rf_randomcv.best_params_"
   ]
  },
  {
   "cell_type": "markdown",
   "metadata": {},
   "source": [
    "## Multinomial NB"
   ]
  },
  {
   "cell_type": "code",
   "execution_count": 46,
   "metadata": {},
   "outputs": [],
   "source": [
    "from sklearn.naive_bayes import MultinomialNB\n",
    "\n",
    "nb_classifier = MultinomialNB()\n",
    "\n",
    "nb_classifier.fit(X_train, y_train)\n",
    "\n",
    "y_predict_nb = nb_classifier.predict(X_test)"
   ]
  },
  {
   "cell_type": "code",
   "execution_count": 47,
   "metadata": {},
   "outputs": [
    {
     "data": {
      "text/plain": [
       "0.725625"
      ]
     },
     "execution_count": 47,
     "metadata": {},
     "output_type": "execute_result"
    }
   ],
   "source": [
    "nb_classifier.score(X_test, y_test)"
   ]
  },
  {
   "cell_type": "code",
   "execution_count": 48,
   "metadata": {},
   "outputs": [
    {
     "name": "stdout",
     "output_type": "stream",
     "text": [
      "[[   0  256    1]\n",
      " [   0 1154    0]\n",
      " [   2  180    7]]\n",
      "0.725625\n",
      "              precision    recall  f1-score   support\n",
      "\n",
      "           0       0.00      0.00      0.00       257\n",
      "           1       0.73      1.00      0.84      1154\n",
      "           2       0.88      0.04      0.07       189\n",
      "\n",
      "    accuracy                           0.73      1600\n",
      "   macro avg       0.53      0.35      0.30      1600\n",
      "weighted avg       0.63      0.73      0.62      1600\n",
      "\n"
     ]
    }
   ],
   "source": [
    "print(confusion_matrix(y_test,y_predict_nb))\n",
    "print(accuracy_score(y_test,y_predict_nb))\n",
    "print(classification_report(y_test,y_predict_nb))"
   ]
  },
  {
   "cell_type": "code",
   "execution_count": 49,
   "metadata": {},
   "outputs": [
    {
     "data": {
      "text/plain": [
       "(1600,)"
      ]
     },
     "execution_count": 49,
     "metadata": {},
     "output_type": "execute_result"
    }
   ],
   "source": [
    "y_predict_nb.shape"
   ]
  },
  {
   "cell_type": "markdown",
   "metadata": {},
   "source": [
    "## RandomForest Classification"
   ]
  },
  {
   "cell_type": "code",
   "execution_count": 50,
   "metadata": {},
   "outputs": [],
   "source": [
    "from sklearn.ensemble import RandomForestClassifier\n",
    "rf_classifier=RandomForestClassifier(n_estimators=10).fit(X_train,y_train)\n",
    "y_predict_rf=rf_classifier.predict(X_test)"
   ]
  },
  {
   "cell_type": "code",
   "execution_count": 51,
   "metadata": {},
   "outputs": [
    {
     "name": "stdout",
     "output_type": "stream",
     "text": [
      "[[ 227   30    0]\n",
      " [  17 1132    5]\n",
      " [   5   19  165]]\n",
      "0.9525\n",
      "              precision    recall  f1-score   support\n",
      "\n",
      "           0       0.91      0.88      0.90       257\n",
      "           1       0.96      0.98      0.97      1154\n",
      "           2       0.97      0.87      0.92       189\n",
      "\n",
      "    accuracy                           0.95      1600\n",
      "   macro avg       0.95      0.91      0.93      1600\n",
      "weighted avg       0.95      0.95      0.95      1600\n",
      "\n"
     ]
    }
   ],
   "source": [
    "print(confusion_matrix(y_test,y_predict_rf))\n",
    "print(accuracy_score(y_test,y_predict_rf))\n",
    "print(classification_report(y_test,y_predict_rf))"
   ]
  },
  {
   "cell_type": "markdown",
   "metadata": {},
   "source": [
    "### Performing HyperParameter Tuning using Random SearchCV on the random forest model"
   ]
  },
  {
   "cell_type": "code",
   "execution_count": 52,
   "metadata": {},
   "outputs": [
    {
     "name": "stdout",
     "output_type": "stream",
     "text": [
      "{'n_estimators': [200, 400, 600, 800, 1000, 1200, 1400, 1600, 1800, 2000], 'max_features': ['auto', 'sqrt', 'log2'], 'max_depth': [10, 120, 230, 340, 450, 560, 670, 780, 890, 1000], 'min_samples_split': [2, 5, 10, 14], 'min_samples_leaf': [1, 2, 4, 6, 8], 'criterion': ['entropy', 'gini']}\n"
     ]
    }
   ],
   "source": [
    "import numpy as np\n",
    "from sklearn.model_selection import RandomizedSearchCV\n",
    "# Number of trees in random forest\n",
    "n_estimators = [int(x) for x in np.linspace(start = 200, stop = 2000, num = 10)]\n",
    "# Number of features to consider at every split\n",
    "max_features = ['auto', 'sqrt','log2']\n",
    "# Maximum number of levels in tree\n",
    "max_depth = [int(x) for x in np.linspace(10, 1000,10)]\n",
    "# Minimum number of samples required to split a node\n",
    "min_samples_split = [2, 5, 10,14]\n",
    "# Minimum number of samples required at each leaf node\n",
    "min_samples_leaf = [1, 2, 4,6,8]\n",
    "# Create the random grid\n",
    "random_grid = {'n_estimators': n_estimators,\n",
    "               'max_features': max_features,\n",
    "               'max_depth': max_depth,\n",
    "               'min_samples_split': min_samples_split,\n",
    "               'min_samples_leaf': min_samples_leaf,\n",
    "              'criterion':['entropy','gini']}\n",
    "print(random_grid)"
   ]
  },
  {
   "cell_type": "code",
   "execution_count": 53,
   "metadata": {},
   "outputs": [
    {
     "name": "stdout",
     "output_type": "stream",
     "text": [
      "Fitting 3 folds for each of 2 candidates, totalling 6 fits\n"
     ]
    },
    {
     "name": "stderr",
     "output_type": "stream",
     "text": [
      "[Parallel(n_jobs=-1)]: Using backend LokyBackend with 4 concurrent workers.\n",
      "[Parallel(n_jobs=-1)]: Done   3 out of   6 | elapsed:   10.8s remaining:   10.8s\n",
      "[Parallel(n_jobs=-1)]: Done   6 out of   6 | elapsed:   43.4s finished\n"
     ]
    },
    {
     "data": {
      "text/plain": [
       "RandomizedSearchCV(cv=3, estimator=RandomForestClassifier(), n_iter=2,\n",
       "                   n_jobs=-1,\n",
       "                   param_distributions={'criterion': ['entropy', 'gini'],\n",
       "                                        'max_depth': [10, 120, 230, 340, 450,\n",
       "                                                      560, 670, 780, 890,\n",
       "                                                      1000],\n",
       "                                        'max_features': ['auto', 'sqrt',\n",
       "                                                         'log2'],\n",
       "                                        'min_samples_leaf': [1, 2, 4, 6, 8],\n",
       "                                        'min_samples_split': [2, 5, 10, 14],\n",
       "                                        'n_estimators': [200, 400, 600, 800,\n",
       "                                                         1000, 1200, 1400, 1600,\n",
       "                                                         1800, 2000]},\n",
       "                   random_state=100, verbose=2)"
      ]
     },
     "execution_count": 53,
     "metadata": {},
     "output_type": "execute_result"
    }
   ],
   "source": [
    "rf=RandomForestClassifier()\n",
    "rf_randomcv=RandomizedSearchCV(estimator=rf,param_distributions=random_grid,n_iter=2,cv=3,verbose=2,\n",
    "                               random_state=100,n_jobs=-1)\n",
    "### fit the randomized model\n",
    "rf_randomcv.fit(X_train,y_train)"
   ]
  },
  {
   "cell_type": "code",
   "execution_count": 54,
   "metadata": {},
   "outputs": [
    {
     "data": {
      "text/plain": [
       "{'n_estimators': 200,\n",
       " 'min_samples_split': 2,\n",
       " 'min_samples_leaf': 2,\n",
       " 'max_features': 'sqrt',\n",
       " 'max_depth': 1000,\n",
       " 'criterion': 'entropy'}"
      ]
     },
     "execution_count": 54,
     "metadata": {},
     "output_type": "execute_result"
    }
   ],
   "source": [
    "rf_randomcv.best_params_"
   ]
  },
  {
   "cell_type": "code",
   "execution_count": 55,
   "metadata": {},
   "outputs": [
    {
     "data": {
      "text/plain": [
       "RandomizedSearchCV(cv=3, estimator=RandomForestClassifier(), n_iter=2,\n",
       "                   n_jobs=-1,\n",
       "                   param_distributions={'criterion': ['entropy', 'gini'],\n",
       "                                        'max_depth': [10, 120, 230, 340, 450,\n",
       "                                                      560, 670, 780, 890,\n",
       "                                                      1000],\n",
       "                                        'max_features': ['auto', 'sqrt',\n",
       "                                                         'log2'],\n",
       "                                        'min_samples_leaf': [1, 2, 4, 6, 8],\n",
       "                                        'min_samples_split': [2, 5, 10, 14],\n",
       "                                        'n_estimators': [200, 400, 600, 800,\n",
       "                                                         1000, 1200, 1400, 1600,\n",
       "                                                         1800, 2000]},\n",
       "                   random_state=100, verbose=2)"
      ]
     },
     "execution_count": 55,
     "metadata": {},
     "output_type": "execute_result"
    }
   ],
   "source": [
    "rf_randomcv"
   ]
  },
  {
   "cell_type": "code",
   "execution_count": 56,
   "metadata": {},
   "outputs": [],
   "source": [
    "best_random_grid=rf_randomcv.best_estimator_"
   ]
  },
  {
   "cell_type": "code",
   "execution_count": 57,
   "metadata": {},
   "outputs": [
    {
     "name": "stdout",
     "output_type": "stream",
     "text": [
      "[[ 219   38    0]\n",
      " [   6 1147    1]\n",
      " [   1   15  173]]\n",
      "Accuracy Score 0.961875\n",
      "Classification report:               precision    recall  f1-score   support\n",
      "\n",
      "           0       0.97      0.85      0.91       257\n",
      "           1       0.96      0.99      0.97      1154\n",
      "           2       0.99      0.92      0.95       189\n",
      "\n",
      "    accuracy                           0.96      1600\n",
      "   macro avg       0.97      0.92      0.94      1600\n",
      "weighted avg       0.96      0.96      0.96      1600\n",
      "\n"
     ]
    }
   ],
   "source": [
    "from sklearn.metrics import accuracy_score\n",
    "y_pred=best_random_grid.predict(X_test)\n",
    "print(confusion_matrix(y_test,y_pred))\n",
    "print(\"Accuracy Score {}\".format(accuracy_score(y_test,y_pred)))\n",
    "print(\"Classification report: {}\".format(classification_report(y_test,y_pred)))"
   ]
  },
  {
   "cell_type": "code",
   "execution_count": null,
   "metadata": {},
   "outputs": [],
   "source": []
  }
 ],
 "metadata": {
  "kernelspec": {
   "display_name": "Python 3",
   "language": "python",
   "name": "python3"
  },
  "language_info": {
   "codemirror_mode": {
    "name": "ipython",
    "version": 3
   },
   "file_extension": ".py",
   "mimetype": "text/x-python",
   "name": "python",
   "nbconvert_exporter": "python",
   "pygments_lexer": "ipython3",
   "version": "3.7.9"
  },
  "widgets": {
   "application/vnd.jupyter.widget-state+json": {
    "state": {
     "00a278c03f084e8db5584de37aed7a72": {
      "model_module": "@jupyter-widgets/controls",
      "model_module_version": "1.5.0",
      "model_name": "HBoxModel",
      "state": {
       "children": [
        "IPY_MODEL_dee258ce261046b2ab7a673509d66598"
       ],
       "layout": "IPY_MODEL_1dea7d08b9964200817fe7018e8003d2"
      }
     },
     "0613648cf13b463b88089bfc9fa41dee": {
      "model_module": "@jupyter-widgets/controls",
      "model_module_version": "1.5.0",
      "model_name": "HBoxModel",
      "state": {
       "children": [
        "IPY_MODEL_785228ef629f4a1a96605a8b152c642b"
       ],
       "layout": "IPY_MODEL_64090c82c2404fb192b9980e244df8ab"
      }
     },
     "063139a281a54d08a293d8e7e9658b23": {
      "model_module": "@jupyter-widgets/base",
      "model_module_version": "1.2.0",
      "model_name": "LayoutModel",
      "state": {}
     },
     "069338055d76448eab007b4158576e22": {
      "model_module": "bamboolib",
      "model_module_version": "1.15.0",
      "model_name": "ButtonModel",
      "state": {
       "_dom_classes": [
        "bamboolib-show-ui-button",
        "bamboolib-button-primary"
       ],
       "_model_module_version": "1.15.0",
       "_view_module_version": "1.15.0",
       "description": "Show bamboolib UI",
       "layout": "IPY_MODEL_f009ea77c90148108acd629bf69ad79a",
       "style": "IPY_MODEL_5caee555cb114173a34190c113e6fd74"
      }
     },
     "07265edd1f13412ba675041fa71026b4": {
      "model_module": "@jupyter-widgets/base",
      "model_module_version": "1.2.0",
      "model_name": "LayoutModel",
      "state": {}
     },
     "075968f69261448eae38443e36053e49": {
      "model_module": "@jupyter-widgets/base",
      "model_module_version": "1.2.0",
      "model_name": "LayoutModel",
      "state": {}
     },
     "07d3bb5ee6bf46edb076361fdb8ee39e": {
      "model_module": "@jupyter-widgets/controls",
      "model_module_version": "1.5.0",
      "model_name": "VBoxModel",
      "state": {
       "_dom_classes": [
        "bamboolib-hidden"
       ],
       "children": [
        "IPY_MODEL_911be3a4230b49489d9082d98039ff58"
       ],
       "layout": "IPY_MODEL_31f24cdb381e4de1a1bbd8c14b3c144e"
      }
     },
     "08a6a4bb3de143c1a52e2a29a3dfd965": {
      "model_module": "@jupyter-widgets/controls",
      "model_module_version": "1.5.0",
      "model_name": "VBoxModel",
      "state": {
       "_dom_classes": [
        "bamboolib-hidden"
       ],
       "children": [
        "IPY_MODEL_c1afa3601ae7497387aeae5ad64ba92d"
       ],
       "layout": "IPY_MODEL_6648edd694e74e34a23351da58c5352e"
      }
     },
     "08eb3cb3890446f8b620b883aa907aaa": {
      "model_module": "@jupyter-widgets/controls",
      "model_module_version": "1.5.0",
      "model_name": "ButtonStyleModel",
      "state": {}
     },
     "08eb9b30c0da437193874696dcceb596": {
      "model_module": "@jupyter-widgets/base",
      "model_module_version": "1.2.0",
      "model_name": "LayoutModel",
      "state": {}
     },
     "09beacd801cb4579b469f1b38facc54c": {
      "model_module": "@jupyter-widgets/controls",
      "model_module_version": "1.5.0",
      "model_name": "HTMLModel",
      "state": {
       "layout": "IPY_MODEL_733f12af5c214f4fafaf77e4da1fd6f0",
       "style": "IPY_MODEL_ff4f951686d643269cc6637cf919276b",
       "value": "bamboolib is loading ..."
      }
     },
     "0a3fc35202314aed91806d934b2b8dd0": {
      "model_module": "@jupyter-widgets/controls",
      "model_module_version": "1.5.0",
      "model_name": "VBoxModel",
      "state": {
       "_dom_classes": [
        "bamboolib-hidden"
       ],
       "children": [
        "IPY_MODEL_31b9f76f92ea47ea983aa021300d1bcf"
       ],
       "layout": "IPY_MODEL_08eb9b30c0da437193874696dcceb596"
      }
     },
     "0aed1d4fe9b140079602f572af138b04": {
      "model_module": "bamboolib",
      "model_module_version": "1.15.0",
      "model_name": "ButtonModel",
      "state": {
       "_dom_classes": [
        "bamboolib-show-ui-button",
        "bamboolib-button-primary"
       ],
       "_model_module_version": "1.15.0",
       "_view_module_version": "1.15.0",
       "description": "Show bamboolib UI",
       "layout": "IPY_MODEL_0d0710c6479a46bcba461a2a59f8da1c",
       "style": "IPY_MODEL_aa3aedac71de4a1ea1feadd1d066ef3f"
      }
     },
     "0b314afdce794d97896ac10097a46272": {
      "model_module": "@jupyter-widgets/base",
      "model_module_version": "1.2.0",
      "model_name": "LayoutModel",
      "state": {}
     },
     "0bb9b25e051b4adeb35d17a2ad7f5f45": {
      "model_module": "@jupyter-widgets/base",
      "model_module_version": "1.2.0",
      "model_name": "LayoutModel",
      "state": {}
     },
     "0bbe293199714765b3a6e2ffc343e30f": {
      "model_module": "@jupyter-widgets/controls",
      "model_module_version": "1.5.0",
      "model_name": "VBoxModel",
      "state": {
       "children": [
        "IPY_MODEL_8c04ce460a734e8d9fd855b49ba23da1",
        "IPY_MODEL_08a6a4bb3de143c1a52e2a29a3dfd965"
       ],
       "layout": "IPY_MODEL_d19609f293b14ffb9ce0befd0ec2624a"
      }
     },
     "0cb58acda443493f92bb1a70a622c371": {
      "model_module": "@jupyter-widgets/base",
      "model_module_version": "1.2.0",
      "model_name": "LayoutModel",
      "state": {}
     },
     "0cce5047782d44919c298b5d7ecff078": {
      "model_module": "@jupyter-widgets/controls",
      "model_module_version": "1.5.0",
      "model_name": "DescriptionStyleModel",
      "state": {
       "description_width": ""
      }
     },
     "0d0710c6479a46bcba461a2a59f8da1c": {
      "model_module": "@jupyter-widgets/base",
      "model_module_version": "1.2.0",
      "model_name": "LayoutModel",
      "state": {}
     },
     "0d4f1d435825401c9e34fcfc274bc33f": {
      "model_module": "@jupyter-widgets/controls",
      "model_module_version": "1.5.0",
      "model_name": "VBoxModel",
      "state": {
       "children": [
        "IPY_MODEL_0613648cf13b463b88089bfc9fa41dee",
        "IPY_MODEL_2e28d5096242448fbebc4757a5d4bcbd"
       ],
       "layout": "IPY_MODEL_b5c212b408124562bd674a4d53ab8ac4"
      }
     },
     "0db063d1696741d38c41b5edd934f066": {
      "model_module": "@jupyter-widgets/base",
      "model_module_version": "1.2.0",
      "model_name": "LayoutModel",
      "state": {}
     },
     "0dc5d7f78e5c44edb554c662c9d37ddd": {
      "model_module": "bamboolib",
      "model_module_version": "1.15.0",
      "model_name": "ButtonModel",
      "state": {
       "_dom_classes": [
        "bamboolib-show-ui-button",
        "bamboolib-button-primary"
       ],
       "_model_module_version": "1.15.0",
       "_view_module_version": "1.15.0",
       "description": "Show bamboolib UI",
       "layout": "IPY_MODEL_e8208469cb524bf8b1adeedd0cb1493a",
       "style": "IPY_MODEL_d5add52fb49f4579ab9ec862370ca712"
      }
     },
     "0e0c7dbc200d473790a2ab0f44d8458f": {
      "model_module": "bamboolib",
      "model_module_version": "1.15.0",
      "model_name": "ButtonModel",
      "state": {
       "_dom_classes": [
        "bamboolib-show-ui-button",
        "bamboolib-button-primary"
       ],
       "_model_module_version": "1.15.0",
       "_view_module_version": "1.15.0",
       "description": "Show bamboolib UI",
       "layout": "IPY_MODEL_2becd3dbc35d42bca3a46c6055b0a2ec",
       "style": "IPY_MODEL_dbf8b23b8ae241718377217b256d5328"
      }
     },
     "0ecbb06fc10748549be1a30ca4e5d60d": {
      "model_module": "@jupyter-widgets/controls",
      "model_module_version": "1.5.0",
      "model_name": "DescriptionStyleModel",
      "state": {
       "description_width": ""
      }
     },
     "0f5515f09daf427891fcdbd1f642511c": {
      "model_module": "@jupyter-widgets/base",
      "model_module_version": "1.2.0",
      "model_name": "LayoutModel",
      "state": {}
     },
     "0f7488f4af4e47be8d22a2832f1ac8dd": {
      "model_module": "@jupyter-widgets/controls",
      "model_module_version": "1.5.0",
      "model_name": "DescriptionStyleModel",
      "state": {
       "description_width": ""
      }
     },
     "10772e8712814a0fb6f2d99803f3a6ac": {
      "model_module": "@jupyter-widgets/base",
      "model_module_version": "1.2.0",
      "model_name": "LayoutModel",
      "state": {}
     },
     "10d643157cd5489ca33abee330883718": {
      "model_module": "@jupyter-widgets/output",
      "model_module_version": "1.0.0",
      "model_name": "OutputModel",
      "state": {
       "layout": "IPY_MODEL_85862ec360e24d45b66e1e3e37e2398d",
       "outputs": [
        {
         "data": {
          "text/html": "<div>\n<style scoped>\n    .dataframe tbody tr th:only-of-type {\n        vertical-align: middle;\n    }\n\n    .dataframe tbody tr th {\n        vertical-align: top;\n    }\n\n    .dataframe thead th {\n        text-align: right;\n    }\n</style>\n<table border=\"1\" class=\"dataframe\">\n  <thead>\n    <tr style=\"text-align: right;\">\n      <th></th>\n      <th>password</th>\n      <th>strength</th>\n    </tr>\n  </thead>\n  <tbody>\n    <tr>\n      <th>367579</th>\n      <td>NaN</td>\n      <td>0</td>\n    </tr>\n  </tbody>\n</table>\n</div>",
          "text/plain": "       password  strength\n367579      NaN         0"
         },
         "metadata": {},
         "output_type": "display_data"
        }
       ]
      }
     },
     "1239631d4d9d45a0958d49daffeadeee": {
      "model_module": "@jupyter-widgets/controls",
      "model_module_version": "1.5.0",
      "model_name": "HTMLModel",
      "state": {
       "layout": "IPY_MODEL_d9047e60162c417fb900b13a5bcbdb88",
       "style": "IPY_MODEL_61e1b2faf90a4ebe90cd3d36f3b5c67c",
       "value": "<div style=\"color:#721c24;background-color:#f8d7da;border-color:#f5c6cb;position: relative;padding: 8px 12px;margin-bottom: 12px;border: 1px solid transparent;border-radius: 5px;line-height: 1.5;\" class=\"bamboolib-notification bamboolib-notification-error\">\n<p>bamboolib does not work if the dataframe is not assigned to a variable. <b>Please assign the dataframe to a variable.</b></p>\n<br>\n<p>For example, maybe you typed something like:</p>\n<pre><code>    pd.read_csv(\"titanic.csv\")</code></pre>\n<br>\n<p>Please write it as follows:</p>\n<pre><code>    df = pd.read_csv(\"titanic.csv\")\n    df</code></pre>\n            </div>"
      }
     },
     "131201987a0f48aa9126bfd052aa14a3": {
      "model_module": "bamboolib",
      "model_module_version": "1.15.0",
      "model_name": "ButtonModel",
      "state": {
       "_dom_classes": [
        "bamboolib-show-ui-button",
        "bamboolib-button-primary"
       ],
       "_model_module_version": "1.15.0",
       "_view_module_version": "1.15.0",
       "description": "Show bamboolib UI",
       "layout": "IPY_MODEL_b050a6471f30447abf95cf01e811d3d3",
       "style": "IPY_MODEL_39984dd90dee49da9c1c65fd0e9ac48e"
      }
     },
     "1361b5bb72ea4e8bb0998e554f539ae9": {
      "model_module": "@jupyter-widgets/controls",
      "model_module_version": "1.5.0",
      "model_name": "ButtonStyleModel",
      "state": {}
     },
     "13cf61f7718941a1b862d67370c03bab": {
      "model_module": "@jupyter-widgets/base",
      "model_module_version": "1.2.0",
      "model_name": "LayoutModel",
      "state": {}
     },
     "14b2b2f40f554daa9c47986b735bee83": {
      "model_module": "@jupyter-widgets/controls",
      "model_module_version": "1.5.0",
      "model_name": "VBoxModel",
      "state": {
       "children": [
        "IPY_MODEL_4d6a06e52a574027a173d8d50963085f",
        "IPY_MODEL_07d3bb5ee6bf46edb076361fdb8ee39e"
       ],
       "layout": "IPY_MODEL_2bce2bbb9adc45068e8e85f554fbdc0a"
      }
     },
     "14e19a17eb0f43d5848db5420b1deb9e": {
      "model_module": "@jupyter-widgets/controls",
      "model_module_version": "1.5.0",
      "model_name": "DescriptionStyleModel",
      "state": {
       "description_width": ""
      }
     },
     "14e4a9905aa343978072abbbc70d9322": {
      "model_module": "@jupyter-widgets/base",
      "model_module_version": "1.2.0",
      "model_name": "LayoutModel",
      "state": {}
     },
     "163ea1c8c4f846f4a09e1c020602220c": {
      "model_module": "@jupyter-widgets/controls",
      "model_module_version": "1.5.0",
      "model_name": "VBoxModel",
      "state": {
       "children": [
        "IPY_MODEL_6f25ab6cdbb14a0b98702e495cc32b07",
        "IPY_MODEL_8cda4fa7b55e445bb4a4ab10c87cb16a"
       ],
       "layout": "IPY_MODEL_d6502ef3360243abad9f58aebc07a568"
      }
     },
     "17fe1ce7fc484fa0a6cbf9e5dde6e21e": {
      "model_module": "@jupyter-widgets/controls",
      "model_module_version": "1.5.0",
      "model_name": "DescriptionStyleModel",
      "state": {
       "description_width": ""
      }
     },
     "1808388da42042be9073be004a468816": {
      "model_module": "@jupyter-widgets/base",
      "model_module_version": "1.2.0",
      "model_name": "LayoutModel",
      "state": {}
     },
     "18a1c634bf79431380254b3e24b0ca5e": {
      "model_module": "@jupyter-widgets/controls",
      "model_module_version": "1.5.0",
      "model_name": "DescriptionStyleModel",
      "state": {
       "description_width": ""
      }
     },
     "18e22d027fd942b8b5c36fea7e8fa5ea": {
      "model_module": "@jupyter-widgets/controls",
      "model_module_version": "1.5.0",
      "model_name": "VBoxModel",
      "state": {
       "children": [
        "IPY_MODEL_1a8e05cef156415685fb3ea1716b2a7f",
        "IPY_MODEL_487a5b3851584c27bdd4f7ecd4e9e3d6"
       ],
       "layout": "IPY_MODEL_ec58388d7dff489b8c59f3e3c6acfdfe"
      }
     },
     "1a0204a083aa4402b91451406b888895": {
      "model_module": "@jupyter-widgets/controls",
      "model_module_version": "1.5.0",
      "model_name": "ButtonStyleModel",
      "state": {}
     },
     "1a602819611c48e19535a093d1e2519c": {
      "model_module": "@jupyter-widgets/base",
      "model_module_version": "1.2.0",
      "model_name": "LayoutModel",
      "state": {}
     },
     "1a8e05cef156415685fb3ea1716b2a7f": {
      "model_module": "@jupyter-widgets/output",
      "model_module_version": "1.0.0",
      "model_name": "OutputModel",
      "state": {
       "layout": "IPY_MODEL_f64fcc250ac04b3ebd1f6038990b4fb9",
       "outputs": [
        {
         "data": {
          "text/html": "<div>\n<style scoped>\n    .dataframe tbody tr th:only-of-type {\n        vertical-align: middle;\n    }\n\n    .dataframe tbody tr th {\n        vertical-align: top;\n    }\n\n    .dataframe thead th {\n        text-align: right;\n    }\n</style>\n<table border=\"1\" class=\"dataframe\">\n  <thead>\n    <tr style=\"text-align: right;\">\n      <th></th>\n      <th>password</th>\n      <th>strength</th>\n    </tr>\n  </thead>\n  <tbody>\n    <tr>\n      <th>367579</th>\n      <td>NaN</td>\n      <td>0</td>\n    </tr>\n  </tbody>\n</table>\n</div>",
          "text/plain": "       password  strength\n367579      NaN         0"
         },
         "metadata": {},
         "output_type": "display_data"
        }
       ]
      }
     },
     "1b0c840f870c4c2e945bb9b7766acf07": {
      "model_module": "@jupyter-widgets/controls",
      "model_module_version": "1.5.0",
      "model_name": "VBoxModel",
      "state": {
       "children": [
        "IPY_MODEL_32c7271ea4a34ba3b2d08874ed100430",
        "IPY_MODEL_3972a1c9ef9b4c39b2323144c8dc9dd6"
       ],
       "layout": "IPY_MODEL_075968f69261448eae38443e36053e49"
      }
     },
     "1c032b3047c744bcbb1fd24cb818d65f": {
      "model_module": "@jupyter-widgets/controls",
      "model_module_version": "1.5.0",
      "model_name": "HTMLModel",
      "state": {
       "layout": "IPY_MODEL_5e1a190cb80e480e96a4ea8d63a486d9",
       "style": "IPY_MODEL_415360003a7a40079a546c5fe8c5b20c",
       "value": "bamboolib is loading ..."
      }
     },
     "1c9c52b603864322858461ff62e9ebbc": {
      "model_module": "@jupyter-widgets/controls",
      "model_module_version": "1.5.0",
      "model_name": "HTMLModel",
      "state": {
       "layout": "IPY_MODEL_2b15f167a9d64a79966dadc056aece87",
       "style": "IPY_MODEL_17fe1ce7fc484fa0a6cbf9e5dde6e21e",
       "value": "bamboolib is loading ..."
      }
     },
     "1d7b9af4c9dd467181a32bd122d35e29": {
      "model_module": "@jupyter-widgets/controls",
      "model_module_version": "1.5.0",
      "model_name": "ButtonStyleModel",
      "state": {}
     },
     "1dea7d08b9964200817fe7018e8003d2": {
      "model_module": "@jupyter-widgets/base",
      "model_module_version": "1.2.0",
      "model_name": "LayoutModel",
      "state": {}
     },
     "1e6044fc7f264dec8501a4075648eebb": {
      "model_module": "@jupyter-widgets/controls",
      "model_module_version": "1.5.0",
      "model_name": "HTMLModel",
      "state": {
       "layout": "IPY_MODEL_f1a78f4cc09e4f3385319fc3baca5eb9",
       "style": "IPY_MODEL_eeb8510299a842e4a21d3c3080c4dbca",
       "value": "bamboolib is loading ..."
      }
     },
     "1f68a81495d94e318b342b270d2581f4": {
      "model_module": "@jupyter-widgets/output",
      "model_module_version": "1.0.0",
      "model_name": "OutputModel",
      "state": {
       "layout": "IPY_MODEL_7a0c642677a74972b763fa32c58b3409",
       "outputs": [
        {
         "data": {
          "text/html": "<div>\n<style scoped>\n    .dataframe tbody tr th:only-of-type {\n        vertical-align: middle;\n    }\n\n    .dataframe tbody tr th {\n        vertical-align: top;\n    }\n\n    .dataframe thead th {\n        text-align: right;\n    }\n</style>\n<table border=\"1\" class=\"dataframe\">\n  <thead>\n    <tr style=\"text-align: right;\">\n      <th></th>\n      <th>password</th>\n      <th>strength</th>\n    </tr>\n  </thead>\n  <tbody>\n    <tr>\n      <th>0</th>\n      <td>kzde5577</td>\n      <td>1</td>\n    </tr>\n    <tr>\n      <th>1</th>\n      <td>kino3434</td>\n      <td>1</td>\n    </tr>\n    <tr>\n      <th>2</th>\n      <td>visi7k1yr</td>\n      <td>1</td>\n    </tr>\n    <tr>\n      <th>3</th>\n      <td>megzy123</td>\n      <td>1</td>\n    </tr>\n    <tr>\n      <th>4</th>\n      <td>lamborghin1</td>\n      <td>1</td>\n    </tr>\n  </tbody>\n</table>\n</div>",
          "text/plain": "      password  strength\n0     kzde5577         1\n1     kino3434         1\n2    visi7k1yr         1\n3     megzy123         1\n4  lamborghin1         1"
         },
         "metadata": {},
         "output_type": "display_data"
        }
       ]
      }
     },
     "1fb30464e976474c84b16c30513704cd": {
      "model_module": "@jupyter-widgets/controls",
      "model_module_version": "1.5.0",
      "model_name": "HTMLModel",
      "state": {
       "layout": "IPY_MODEL_6b5b6fdef6c44437b7ff5112f98b5701",
       "style": "IPY_MODEL_703eb23751af42a3999e2213ae4f1c88",
       "value": "bamboolib is loading ..."
      }
     },
     "1fd12d191bb84efc927f61584a72d658": {
      "model_module": "bamboolib",
      "model_module_version": "1.15.0",
      "model_name": "ButtonModel",
      "state": {
       "_dom_classes": [
        "bamboolib-show-ui-button",
        "bamboolib-button-primary"
       ],
       "_model_module_version": "1.15.0",
       "_view_module_version": "1.15.0",
       "description": "Show bamboolib UI",
       "layout": "IPY_MODEL_77da4942dcd94354a484a8a244cbe1da",
       "style": "IPY_MODEL_57394f7221c64071ad91cd1380dccf0c"
      }
     },
     "1fec8aa6af6b4302a12cc22bb3826e06": {
      "model_module": "@jupyter-widgets/controls",
      "model_module_version": "1.5.0",
      "model_name": "HTMLModel",
      "state": {
       "layout": "IPY_MODEL_10772e8712814a0fb6f2d99803f3a6ac",
       "style": "IPY_MODEL_0ecbb06fc10748549be1a30ca4e5d60d",
       "value": "bamboolib is loading ..."
      }
     },
     "20ebf074ebaf4cae8ab87be0b4a0ee5e": {
      "model_module": "@jupyter-widgets/controls",
      "model_module_version": "1.5.0",
      "model_name": "VBoxModel",
      "state": {
       "children": [
        "IPY_MODEL_e3b6f7f3ed024a5892f3aa15ac18a00b",
        "IPY_MODEL_b7f15b2219344a37b43d8e3631f8db25"
       ],
       "layout": "IPY_MODEL_3ec90a2fd6ec4d098e484b04b2aa8357"
      }
     },
     "21c477b50517462d8877e5c466d2ced5": {
      "model_module": "@jupyter-widgets/controls",
      "model_module_version": "1.5.0",
      "model_name": "HTMLModel",
      "state": {
       "layout": "IPY_MODEL_583274adb02f4da685e6467a4a8e686f",
       "style": "IPY_MODEL_ce31a0bb574f4d0799171fc37ff77014",
       "value": "bamboolib is loading ..."
      }
     },
     "22435a7983604977ba4411c28822533e": {
      "model_module": "@jupyter-widgets/controls",
      "model_module_version": "1.5.0",
      "model_name": "HTMLModel",
      "state": {
       "layout": "IPY_MODEL_96c586883afd44bd983012f854f8f2a9",
       "style": "IPY_MODEL_0cce5047782d44919c298b5d7ecff078",
       "value": "bamboolib is loading ..."
      }
     },
     "236596246df448a1aeea02ece9851068": {
      "model_module": "@jupyter-widgets/controls",
      "model_module_version": "1.5.0",
      "model_name": "VBoxModel",
      "state": {
       "children": [
        "IPY_MODEL_66bcdc27301e454ba6d78d0d57b20caa",
        "IPY_MODEL_14b2b2f40f554daa9c47986b735bee83"
       ],
       "layout": "IPY_MODEL_d9532678038a4a74b87157994f619d86"
      }
     },
     "2558fb05194d4074b6627817f0dbcdcf": {
      "model_module": "@jupyter-widgets/controls",
      "model_module_version": "1.5.0",
      "model_name": "HTMLModel",
      "state": {
       "layout": "IPY_MODEL_acf1d9e6100c4539b27aa5ba007044ed",
       "style": "IPY_MODEL_6c3c3e63dbc64364bf4846de3fcf25eb",
       "value": "bamboolib is loading ..."
      }
     },
     "262006806423425194cca1a427706dc8": {
      "model_module": "@jupyter-widgets/base",
      "model_module_version": "1.2.0",
      "model_name": "LayoutModel",
      "state": {}
     },
     "27785464371545ecb524f4bf61c63081": {
      "model_module": "@jupyter-widgets/controls",
      "model_module_version": "1.5.0",
      "model_name": "DescriptionStyleModel",
      "state": {
       "description_width": ""
      }
     },
     "280776d6ff7948b39d2ba67fe4255ada": {
      "model_module": "@jupyter-widgets/controls",
      "model_module_version": "1.5.0",
      "model_name": "HTMLModel",
      "state": {
       "layout": "IPY_MODEL_6b50349d409a4a9b8f9788693c375044",
       "style": "IPY_MODEL_bd238ded29d74ecf95ad23716530f55f",
       "value": "bamboolib is loading ..."
      }
     },
     "290d6fbef7d24d899fbf6946d1377a12": {
      "model_module": "@jupyter-widgets/base",
      "model_module_version": "1.2.0",
      "model_name": "LayoutModel",
      "state": {}
     },
     "29578a7cce0348e7891d1e94674f16d7": {
      "model_module": "@jupyter-widgets/base",
      "model_module_version": "1.2.0",
      "model_name": "LayoutModel",
      "state": {}
     },
     "2a088c65f9a04c47baa6ac476050f2a8": {
      "model_module": "@jupyter-widgets/controls",
      "model_module_version": "1.5.0",
      "model_name": "DescriptionStyleModel",
      "state": {
       "description_width": ""
      }
     },
     "2a820f5ce98d4cceb172a9a6ec789a6a": {
      "model_module": "@jupyter-widgets/controls",
      "model_module_version": "1.5.0",
      "model_name": "DescriptionStyleModel",
      "state": {
       "description_width": ""
      }
     },
     "2b15f167a9d64a79966dadc056aece87": {
      "model_module": "@jupyter-widgets/base",
      "model_module_version": "1.2.0",
      "model_name": "LayoutModel",
      "state": {}
     },
     "2b90f1d29d924050b8e97c26983ecdc2": {
      "model_module": "@jupyter-widgets/base",
      "model_module_version": "1.2.0",
      "model_name": "LayoutModel",
      "state": {}
     },
     "2bce2bbb9adc45068e8e85f554fbdc0a": {
      "model_module": "@jupyter-widgets/base",
      "model_module_version": "1.2.0",
      "model_name": "LayoutModel",
      "state": {}
     },
     "2becd3dbc35d42bca3a46c6055b0a2ec": {
      "model_module": "@jupyter-widgets/base",
      "model_module_version": "1.2.0",
      "model_name": "LayoutModel",
      "state": {}
     },
     "2c5bc04ce1444a298c70914605a2886d": {
      "model_module": "@jupyter-widgets/base",
      "model_module_version": "1.2.0",
      "model_name": "LayoutModel",
      "state": {}
     },
     "2d6144fdec0949e2b0a6a75d3e94757e": {
      "model_module": "@jupyter-widgets/controls",
      "model_module_version": "1.5.0",
      "model_name": "DescriptionStyleModel",
      "state": {
       "description_width": ""
      }
     },
     "2d69fc7c92894e55a8676adf9c4d7393": {
      "model_module": "@jupyter-widgets/base",
      "model_module_version": "1.2.0",
      "model_name": "LayoutModel",
      "state": {}
     },
     "2dfc50f2052847bc84a9973182db961e": {
      "model_module": "@jupyter-widgets/controls",
      "model_module_version": "1.5.0",
      "model_name": "DescriptionStyleModel",
      "state": {
       "description_width": ""
      }
     },
     "2e28d5096242448fbebc4757a5d4bcbd": {
      "model_module": "@jupyter-widgets/controls",
      "model_module_version": "1.5.0",
      "model_name": "VBoxModel",
      "state": {
       "children": [
        "IPY_MODEL_86a57e3b9eb4478cb97933a1ba646c30",
        "IPY_MODEL_655ea90198cb4c378fc4ed0c2bf25265"
       ],
       "layout": "IPY_MODEL_95fa4d9d0e9b4c2a82ff8ffa416a7e4b"
      }
     },
     "2eeef5ff3c994b0dbe9416f2f480d765": {
      "model_module": "@jupyter-widgets/base",
      "model_module_version": "1.2.0",
      "model_name": "LayoutModel",
      "state": {}
     },
     "30104598b4aa49b982224bd74fa19450": {
      "model_module": "@jupyter-widgets/controls",
      "model_module_version": "1.5.0",
      "model_name": "DescriptionStyleModel",
      "state": {
       "description_width": ""
      }
     },
     "306bb32540da48e2bcdeefe83a01abe5": {
      "model_module": "@jupyter-widgets/base",
      "model_module_version": "1.2.0",
      "model_name": "LayoutModel",
      "state": {}
     },
     "31b9f76f92ea47ea983aa021300d1bcf": {
      "model_module": "@jupyter-widgets/controls",
      "model_module_version": "1.5.0",
      "model_name": "HTMLModel",
      "state": {
       "layout": "IPY_MODEL_1a602819611c48e19535a093d1e2519c",
       "style": "IPY_MODEL_30104598b4aa49b982224bd74fa19450",
       "value": "<div style=\"color:#721c24;background-color:#f8d7da;border-color:#f5c6cb;position: relative;padding: 8px 12px;margin-bottom: 12px;border: 1px solid transparent;border-radius: 5px;line-height: 1.5;\" class=\"bamboolib-notification bamboolib-notification-error\">\n<p>bamboolib does not work if the dataframe is not assigned to a variable. <b>Please assign the dataframe to a variable.</b></p>\n<br>\n<p>For example, maybe you typed something like:</p>\n<pre><code>    pd.read_csv(\"titanic.csv\")</code></pre>\n<br>\n<p>Please write it as follows:</p>\n<pre><code>    df = pd.read_csv(\"titanic.csv\")\n    df</code></pre>\n            </div>"
      }
     },
     "31cced0d9d1c4949ab57fbc50664b782": {
      "model_module": "@jupyter-widgets/base",
      "model_module_version": "1.2.0",
      "model_name": "LayoutModel",
      "state": {}
     },
     "31f24cdb381e4de1a1bbd8c14b3c144e": {
      "model_module": "@jupyter-widgets/base",
      "model_module_version": "1.2.0",
      "model_name": "LayoutModel",
      "state": {}
     },
     "323366be661e4f918198b1cb0a1b9f82": {
      "model_module": "@jupyter-widgets/base",
      "model_module_version": "1.2.0",
      "model_name": "LayoutModel",
      "state": {}
     },
     "32c7271ea4a34ba3b2d08874ed100430": {
      "model_module": "@jupyter-widgets/output",
      "model_module_version": "1.0.0",
      "model_name": "OutputModel",
      "state": {
       "layout": "IPY_MODEL_8c5dd400d88f4473b8a49a6a7aeb2364",
       "outputs": [
        {
         "data": {
          "text/html": "<div>\n<style scoped>\n    .dataframe tbody tr th:only-of-type {\n        vertical-align: middle;\n    }\n\n    .dataframe tbody tr th {\n        vertical-align: top;\n    }\n\n    .dataframe thead th {\n        text-align: right;\n    }\n</style>\n<table border=\"1\" class=\"dataframe\">\n  <thead>\n    <tr style=\"text-align: right;\">\n      <th></th>\n      <th>password</th>\n      <th>strength</th>\n    </tr>\n  </thead>\n  <tbody>\n    <tr>\n      <th>0</th>\n      <td>kzde5577</td>\n      <td>1</td>\n    </tr>\n    <tr>\n      <th>1</th>\n      <td>kino3434</td>\n      <td>1</td>\n    </tr>\n    <tr>\n      <th>2</th>\n      <td>visi7k1yr</td>\n      <td>1</td>\n    </tr>\n    <tr>\n      <th>3</th>\n      <td>megzy123</td>\n      <td>1</td>\n    </tr>\n    <tr>\n      <th>4</th>\n      <td>lamborghin1</td>\n      <td>1</td>\n    </tr>\n  </tbody>\n</table>\n</div>",
          "text/plain": "      password  strength\n0     kzde5577         1\n1     kino3434         1\n2    visi7k1yr         1\n3     megzy123         1\n4  lamborghin1         1"
         },
         "metadata": {},
         "output_type": "display_data"
        }
       ]
      }
     },
     "333ad7608c34426289e381a7bf4dacf6": {
      "model_module": "@jupyter-widgets/base",
      "model_module_version": "1.2.0",
      "model_name": "LayoutModel",
      "state": {}
     },
     "345879ff9de0489cb7ea3987c99f7594": {
      "model_module": "@jupyter-widgets/controls",
      "model_module_version": "1.5.0",
      "model_name": "VBoxModel",
      "state": {
       "children": [
        "IPY_MODEL_637a8f82df784691a6cb9dfcdddef33a",
        "IPY_MODEL_5a38d37dbc5f41e68f5a33355fa94efd"
       ],
       "layout": "IPY_MODEL_7cb2d73953d54e3db4281f835552a725"
      }
     },
     "34656825c12e41e38213902e3bb4ccc7": {
      "model_module": "@jupyter-widgets/controls",
      "model_module_version": "1.5.0",
      "model_name": "HTMLModel",
      "state": {
       "layout": "IPY_MODEL_45b609c8dd944c30b976226164095894",
       "style": "IPY_MODEL_88220ef8588a49f78c651d5f7f4a3bcb",
       "value": "bamboolib is loading ..."
      }
     },
     "37b4457ed7c649b48bc65147c84ab7a6": {
      "model_module": "@jupyter-widgets/controls",
      "model_module_version": "1.5.0",
      "model_name": "HTMLModel",
      "state": {
       "layout": "IPY_MODEL_0cb58acda443493f92bb1a70a622c371",
       "style": "IPY_MODEL_2a088c65f9a04c47baa6ac476050f2a8",
       "value": "bamboolib is loading ..."
      }
     },
     "388b5bfa56bf4c88b607f7b61404f796": {
      "model_module": "@jupyter-widgets/output",
      "model_module_version": "1.0.0",
      "model_name": "OutputModel",
      "state": {
       "layout": "IPY_MODEL_dc272a589b8b4b6b89911ec6ae055109",
       "outputs": [
        {
         "data": {
          "text/html": "<div>\n<style scoped>\n    .dataframe tbody tr th:only-of-type {\n        vertical-align: middle;\n    }\n\n    .dataframe tbody tr th {\n        vertical-align: top;\n    }\n\n    .dataframe thead th {\n        text-align: right;\n    }\n</style>\n<table border=\"1\" class=\"dataframe\">\n  <thead>\n    <tr style=\"text-align: right;\">\n      <th></th>\n      <th>password</th>\n      <th>strength</th>\n    </tr>\n  </thead>\n  <tbody>\n    <tr>\n      <th>0</th>\n      <td>kzde5577</td>\n      <td>1</td>\n    </tr>\n    <tr>\n      <th>1</th>\n      <td>kino3434</td>\n      <td>1</td>\n    </tr>\n    <tr>\n      <th>2</th>\n      <td>visi7k1yr</td>\n      <td>1</td>\n    </tr>\n    <tr>\n      <th>3</th>\n      <td>megzy123</td>\n      <td>1</td>\n    </tr>\n    <tr>\n      <th>4</th>\n      <td>lamborghin1</td>\n      <td>1</td>\n    </tr>\n  </tbody>\n</table>\n</div>",
          "text/plain": "      password  strength\n0     kzde5577         1\n1     kino3434         1\n2    visi7k1yr         1\n3     megzy123         1\n4  lamborghin1         1"
         },
         "metadata": {},
         "output_type": "display_data"
        }
       ]
      }
     },
     "38ae0288eee64c90a4be2c4344f401b5": {
      "model_module": "@jupyter-widgets/controls",
      "model_module_version": "1.5.0",
      "model_name": "HTMLModel",
      "state": {
       "layout": "IPY_MODEL_5dee2b7e9c7b4dbeac3729184bd062aa",
       "style": "IPY_MODEL_771379dc1d5043f0835b98dd93d8c459",
       "value": "<div style=\"color:#721c24;background-color:#f8d7da;border-color:#f5c6cb;position: relative;padding: 8px 12px;margin-bottom: 12px;border: 1px solid transparent;border-radius: 5px;line-height: 1.5;\" class=\"bamboolib-notification bamboolib-notification-error\">\n<p>bamboolib does not work if the dataframe is not assigned to a variable. <b>Please assign the dataframe to a variable.</b></p>\n<br>\n<p>For example, maybe you typed something like:</p>\n<pre><code>    pd.read_csv(\"titanic.csv\")</code></pre>\n<br>\n<p>Please write it as follows:</p>\n<pre><code>    df = pd.read_csv(\"titanic.csv\")\n    df</code></pre>\n            </div>"
      }
     },
     "38f6a69a7c0b4467aa0265d933062dcf": {
      "model_module": "@jupyter-widgets/controls",
      "model_module_version": "1.5.0",
      "model_name": "HTMLModel",
      "state": {
       "layout": "IPY_MODEL_44ebad26d1bd4b47b20f8e5e47740cf7",
       "style": "IPY_MODEL_626b97d041a1460094abd32bd955e04c",
       "value": "bamboolib is loading ..."
      }
     },
     "394e5bf6a7e74ffba8ddff935544c662": {
      "model_module": "@jupyter-widgets/controls",
      "model_module_version": "1.5.0",
      "model_name": "HTMLModel",
      "state": {
       "layout": "IPY_MODEL_fe6054d434674560aafff215364032f1",
       "style": "IPY_MODEL_c76429b034944499b91ef7ea0bc737a6"
      }
     },
     "3972a1c9ef9b4c39b2323144c8dc9dd6": {
      "model_module": "@jupyter-widgets/controls",
      "model_module_version": "1.5.0",
      "model_name": "VBoxModel",
      "state": {
       "_dom_classes": [
        "bamboolib-hidden"
       ],
       "children": [
        "IPY_MODEL_802c211f76a249a8a8f98076ec8a84ba"
       ],
       "layout": "IPY_MODEL_262006806423425194cca1a427706dc8"
      }
     },
     "39984dd90dee49da9c1c65fd0e9ac48e": {
      "model_module": "@jupyter-widgets/controls",
      "model_module_version": "1.5.0",
      "model_name": "ButtonStyleModel",
      "state": {}
     },
     "39e49290cf0e495a9b7a8ebfef755927": {
      "model_module": "@jupyter-widgets/controls",
      "model_module_version": "1.5.0",
      "model_name": "VBoxModel",
      "state": {
       "_dom_classes": [
        "bamboolib-window"
       ],
       "layout": "IPY_MODEL_c9e33f72864c4adda2adfffa15a9017d"
      }
     },
     "3af940f73b9b46bebd3f7e9a3a0ee38f": {
      "model_module": "@jupyter-widgets/controls",
      "model_module_version": "1.5.0",
      "model_name": "DescriptionStyleModel",
      "state": {
       "description_width": ""
      }
     },
     "3b7cde68d20848a6bfc947256af0aee9": {
      "model_module": "@jupyter-widgets/base",
      "model_module_version": "1.2.0",
      "model_name": "LayoutModel",
      "state": {}
     },
     "3d286cd38f064960a8db05da39c031f9": {
      "model_module": "@jupyter-widgets/controls",
      "model_module_version": "1.5.0",
      "model_name": "VBoxModel",
      "state": {
       "_dom_classes": [
        "bamboolib-hidden"
       ],
       "children": [
        "IPY_MODEL_38ae0288eee64c90a4be2c4344f401b5"
       ],
       "layout": "IPY_MODEL_c1938716ecc446c0821eff1da9667cea"
      }
     },
     "3ec90a2fd6ec4d098e484b04b2aa8357": {
      "model_module": "@jupyter-widgets/base",
      "model_module_version": "1.2.0",
      "model_name": "LayoutModel",
      "state": {}
     },
     "3f822aebc085448ebae60483bcc84fc5": {
      "model_module": "@jupyter-widgets/base",
      "model_module_version": "1.2.0",
      "model_name": "LayoutModel",
      "state": {}
     },
     "405be22fe43e47b087d4cd4d5d3887ae": {
      "model_module": "@jupyter-widgets/base",
      "model_module_version": "1.2.0",
      "model_name": "LayoutModel",
      "state": {}
     },
     "410796bfbc9245b6b59b0361eb89542f": {
      "model_module": "@jupyter-widgets/controls",
      "model_module_version": "1.5.0",
      "model_name": "VBoxModel",
      "state": {
       "children": [
        "IPY_MODEL_8406797a360b4ead9b9b53995ccdc7c3",
        "IPY_MODEL_94546e9f497d4b59b0edc1951d528940"
       ],
       "layout": "IPY_MODEL_75b3bc2e311f406ab712737e230ac0b4"
      }
     },
     "41088806dd0d4b52a196db75bd0ca8ef": {
      "model_module": "@jupyter-widgets/controls",
      "model_module_version": "1.5.0",
      "model_name": "HTMLModel",
      "state": {
       "layout": "IPY_MODEL_cba45c1266b74730877451cdd6447233",
       "style": "IPY_MODEL_bde769c6b29340179c282b765e94a004",
       "value": "bamboolib is loading ..."
      }
     },
     "415360003a7a40079a546c5fe8c5b20c": {
      "model_module": "@jupyter-widgets/controls",
      "model_module_version": "1.5.0",
      "model_name": "DescriptionStyleModel",
      "state": {
       "description_width": ""
      }
     },
     "44da6c7f32684302a5b0c17b5a6d9602": {
      "model_module": "@jupyter-widgets/controls",
      "model_module_version": "1.5.0",
      "model_name": "VBoxModel",
      "state": {
       "children": [
        "IPY_MODEL_54f61829dfcf4f4989212ee8947a9cbe",
        "IPY_MODEL_7c6e88b4747d4bb3bdceea3bfe48e526"
       ],
       "layout": "IPY_MODEL_0bb9b25e051b4adeb35d17a2ad7f5f45"
      }
     },
     "44ebad26d1bd4b47b20f8e5e47740cf7": {
      "model_module": "@jupyter-widgets/base",
      "model_module_version": "1.2.0",
      "model_name": "LayoutModel",
      "state": {}
     },
     "45b609c8dd944c30b976226164095894": {
      "model_module": "@jupyter-widgets/base",
      "model_module_version": "1.2.0",
      "model_name": "LayoutModel",
      "state": {}
     },
     "487a5b3851584c27bdd4f7ecd4e9e3d6": {
      "model_module": "@jupyter-widgets/controls",
      "model_module_version": "1.5.0",
      "model_name": "VBoxModel",
      "state": {
       "_dom_classes": [
        "bamboolib-hidden"
       ],
       "children": [
        "IPY_MODEL_ce3f4804ac7a47638c442dd2dcc837b7"
       ],
       "layout": "IPY_MODEL_b6ad63220a4b4e45b87cdce8c257f643"
      }
     },
     "494ab53156b84350b1b783b815745fc2": {
      "model_module": "@jupyter-widgets/controls",
      "model_module_version": "1.5.0",
      "model_name": "HBoxModel",
      "state": {
       "children": [
        "IPY_MODEL_131201987a0f48aa9126bfd052aa14a3"
       ],
       "layout": "IPY_MODEL_d82b9cd1132f4364a02009ba3d419df0"
      }
     },
     "496931d0ee364a6ab7afc0b2b572365d": {
      "model_module": "@jupyter-widgets/controls",
      "model_module_version": "1.5.0",
      "model_name": "VBoxModel",
      "state": {
       "_dom_classes": [
        "bamboolib-hidden"
       ],
       "children": [
        "IPY_MODEL_54ced22793cd49cb9dc5f73a6b202d8a"
       ],
       "layout": "IPY_MODEL_3f822aebc085448ebae60483bcc84fc5"
      }
     },
     "49eb1bfadf5e444697f7372080341b5b": {
      "model_module": "@jupyter-widgets/controls",
      "model_module_version": "1.5.0",
      "model_name": "HTMLModel",
      "state": {
       "layout": "IPY_MODEL_cf4339b09a504912adb138a0c7343a15",
       "style": "IPY_MODEL_14e19a17eb0f43d5848db5420b1deb9e",
       "value": "bamboolib is loading ..."
      }
     },
     "4b93fd0fa8a84d2e862aca2007772d8d": {
      "model_module": "@jupyter-widgets/base",
      "model_module_version": "1.2.0",
      "model_name": "LayoutModel",
      "state": {}
     },
     "4c8406fee4604485b5917dba2223c2ec": {
      "model_module": "@jupyter-widgets/controls",
      "model_module_version": "1.5.0",
      "model_name": "HTMLModel",
      "state": {
       "layout": "IPY_MODEL_ecca4dbc4d824855861b4ba8008f2390",
       "style": "IPY_MODEL_e2ce3da0eb7e46cab2820b99c2225874",
       "value": "bamboolib is loading ..."
      }
     },
     "4d6a06e52a574027a173d8d50963085f": {
      "model_module": "@jupyter-widgets/output",
      "model_module_version": "1.0.0",
      "model_name": "OutputModel",
      "state": {
       "layout": "IPY_MODEL_31cced0d9d1c4949ab57fbc50664b782",
       "outputs": [
        {
         "data": {
          "text/html": "<div>\n<style scoped>\n    .dataframe tbody tr th:only-of-type {\n        vertical-align: middle;\n    }\n\n    .dataframe tbody tr th {\n        vertical-align: top;\n    }\n\n    .dataframe thead th {\n        text-align: right;\n    }\n</style>\n<table border=\"1\" class=\"dataframe\">\n  <thead>\n    <tr style=\"text-align: right;\">\n      <th></th>\n      <th>tfidf</th>\n    </tr>\n  </thead>\n  <tbody>\n    <tr>\n      <th>7</th>\n      <td>0.591809</td>\n    </tr>\n    <tr>\n      <th>5</th>\n      <td>0.566574</td>\n    </tr>\n    <tr>\n      <th>z</th>\n      <td>0.335997</td>\n    </tr>\n    <tr>\n      <th>k</th>\n      <td>0.291636</td>\n    </tr>\n    <tr>\n      <th>d</th>\n      <td>0.286150</td>\n    </tr>\n    <tr>\n      <th>...</th>\n      <td>...</td>\n    </tr>\n    <tr>\n      <th>?</th>\n      <td>0.000000</td>\n    </tr>\n    <tr>\n      <th>&gt;</th>\n      <td>0.000000</td>\n    </tr>\n    <tr>\n      <th>=</th>\n      <td>0.000000</td>\n    </tr>\n    <tr>\n      <th>&lt;</th>\n      <td>0.000000</td>\n    </tr>\n    <tr>\n      <th>™</th>\n      <td>0.000000</td>\n    </tr>\n  </tbody>\n</table>\n<p>130 rows × 1 columns</p>\n</div>",
          "text/plain": "       tfidf\n7   0.591809\n5   0.566574\nz   0.335997\nk   0.291636\nd   0.286150\n..       ...\n?   0.000000\n>   0.000000\n=   0.000000\n<   0.000000\n™   0.000000\n\n[130 rows x 1 columns]"
         },
         "metadata": {},
         "output_type": "display_data"
        }
       ]
      }
     },
     "4eddbdbfcdc848c7a8372d9bfedd82e9": {
      "model_module": "@jupyter-widgets/base",
      "model_module_version": "1.2.0",
      "model_name": "LayoutModel",
      "state": {}
     },
     "4f2cb21df34e4a998b90e376140fcf9d": {
      "model_module": "@jupyter-widgets/controls",
      "model_module_version": "1.5.0",
      "model_name": "HTMLModel",
      "state": {
       "layout": "IPY_MODEL_ffe571ba5df543438391cc12faf2166c",
       "style": "IPY_MODEL_8d6af3c2117045f6bce258447013af96",
       "value": "<div style=\"color:#721c24;background-color:#f8d7da;border-color:#f5c6cb;position: relative;padding: 8px 12px;margin-bottom: 12px;border: 1px solid transparent;border-radius: 5px;line-height: 1.5;\" class=\"bamboolib-notification bamboolib-notification-error\">\n<p>bamboolib does not work if the dataframe is not assigned to a variable. <b>Please assign the dataframe to a variable.</b></p>\n<br>\n<p>For example, maybe you typed something like:</p>\n<pre><code>    pd.read_csv(\"titanic.csv\")</code></pre>\n<br>\n<p>Please write it as follows:</p>\n<pre><code>    df = pd.read_csv(\"titanic.csv\")\n    df</code></pre>\n            </div>"
      }
     },
     "50b4ef4ddffa4290b61760d3e2aebe6d": {
      "model_module": "@jupyter-widgets/controls",
      "model_module_version": "1.5.0",
      "model_name": "HTMLModel",
      "state": {
       "layout": "IPY_MODEL_d6912cbb2ba74f6893fd1c8986b642e6",
       "style": "IPY_MODEL_a67d24de35a54f17a333b140877086e5",
       "value": "<div style=\"color:#721c24;background-color:#f8d7da;border-color:#f5c6cb;position: relative;padding: 8px 12px;margin-bottom: 12px;border: 1px solid transparent;border-radius: 5px;line-height: 1.5;\" class=\"bamboolib-notification bamboolib-notification-error\">\n<p>bamboolib does not work if the dataframe is not assigned to a variable. <b>Please assign the dataframe to a variable.</b></p>\n<br>\n<p>For example, maybe you typed something like:</p>\n<pre><code>    pd.read_csv(\"titanic.csv\")</code></pre>\n<br>\n<p>Please write it as follows:</p>\n<pre><code>    df = pd.read_csv(\"titanic.csv\")\n    df</code></pre>\n            </div>"
      }
     },
     "511d2ffc543c421faa229caec3b251b1": {
      "model_module": "@jupyter-widgets/controls",
      "model_module_version": "1.5.0",
      "model_name": "DescriptionStyleModel",
      "state": {
       "description_width": ""
      }
     },
     "5426ef8d15434a92914fbbaf02cf9d01": {
      "model_module": "@jupyter-widgets/controls",
      "model_module_version": "1.5.0",
      "model_name": "ButtonStyleModel",
      "state": {}
     },
     "54b62cba67b44cc6b0f55d5fa9d187d3": {
      "model_module": "@jupyter-widgets/controls",
      "model_module_version": "1.5.0",
      "model_name": "DescriptionStyleModel",
      "state": {
       "description_width": ""
      }
     },
     "54bb2d931dac465a8e7683586803ff3e": {
      "model_module": "@jupyter-widgets/controls",
      "model_module_version": "1.5.0",
      "model_name": "DescriptionStyleModel",
      "state": {
       "description_width": ""
      }
     },
     "54ced22793cd49cb9dc5f73a6b202d8a": {
      "model_module": "@jupyter-widgets/controls",
      "model_module_version": "1.5.0",
      "model_name": "HTMLModel",
      "state": {
       "layout": "IPY_MODEL_ad63a6e1e5de4d278de32b7935d4f3db",
       "style": "IPY_MODEL_ae7019208d454a47b2d60c7d0d6dc41d",
       "value": "<div style=\"color:#721c24;background-color:#f8d7da;border-color:#f5c6cb;position: relative;padding: 8px 12px;margin-bottom: 12px;border: 1px solid transparent;border-radius: 5px;line-height: 1.5;\" class=\"bamboolib-notification bamboolib-notification-error\">\n<p>bamboolib does not work if the dataframe is not assigned to a variable. <b>Please assign the dataframe to a variable.</b></p>\n<br>\n<p>For example, maybe you typed something like:</p>\n<pre><code>    pd.read_csv(\"titanic.csv\")</code></pre>\n<br>\n<p>Please write it as follows:</p>\n<pre><code>    df = pd.read_csv(\"titanic.csv\")\n    df</code></pre>\n            </div>"
      }
     },
     "54f61829dfcf4f4989212ee8947a9cbe": {
      "model_module": "@jupyter-widgets/controls",
      "model_module_version": "1.5.0",
      "model_name": "HBoxModel",
      "state": {
       "children": [
        "IPY_MODEL_069338055d76448eab007b4158576e22"
       ],
       "layout": "IPY_MODEL_65a113e533b64233a610895180c1b2be"
      }
     },
     "54f9410bf3764026b3d140b2c1dfad68": {
      "model_module": "@jupyter-widgets/base",
      "model_module_version": "1.2.0",
      "model_name": "LayoutModel",
      "state": {}
     },
     "570ab830df9e4ccea3cb72ed61d329be": {
      "model_module": "@jupyter-widgets/controls",
      "model_module_version": "1.5.0",
      "model_name": "HTMLModel",
      "state": {
       "layout": "IPY_MODEL_73eac35e8bbf42f98a74cc7b3f4603f8",
       "style": "IPY_MODEL_a0c43ba93b8647adac11f60c48b71375",
       "value": "<div style=\"color:#721c24;background-color:#f8d7da;border-color:#f5c6cb;position: relative;padding: 8px 12px;margin-bottom: 12px;border: 1px solid transparent;border-radius: 5px;line-height: 1.5;\" class=\"bamboolib-notification bamboolib-notification-error\">\n<p>bamboolib does not work if the dataframe is not assigned to a variable. <b>Please assign the dataframe to a variable.</b></p>\n<br>\n<p>For example, maybe you typed something like:</p>\n<pre><code>    pd.read_csv(\"titanic.csv\")</code></pre>\n<br>\n<p>Please write it as follows:</p>\n<pre><code>    df = pd.read_csv(\"titanic.csv\")\n    df</code></pre>\n            </div>"
      }
     },
     "57394f7221c64071ad91cd1380dccf0c": {
      "model_module": "@jupyter-widgets/controls",
      "model_module_version": "1.5.0",
      "model_name": "ButtonStyleModel",
      "state": {}
     },
     "583274adb02f4da685e6467a4a8e686f": {
      "model_module": "@jupyter-widgets/base",
      "model_module_version": "1.2.0",
      "model_name": "LayoutModel",
      "state": {}
     },
     "59fd4517286a407ba56a437283c6c0d0": {
      "model_module": "@jupyter-widgets/controls",
      "model_module_version": "1.5.0",
      "model_name": "ButtonStyleModel",
      "state": {}
     },
     "5a38d37dbc5f41e68f5a33355fa94efd": {
      "model_module": "@jupyter-widgets/controls",
      "model_module_version": "1.5.0",
      "model_name": "VBoxModel",
      "state": {
       "_dom_classes": [
        "bamboolib-hidden"
       ],
       "children": [
        "IPY_MODEL_4f2cb21df34e4a998b90e376140fcf9d"
       ],
       "layout": "IPY_MODEL_323366be661e4f918198b1cb0a1b9f82"
      }
     },
     "5a4b5aa687af4187969cbacd5e35e1a5": {
      "model_module": "@jupyter-widgets/base",
      "model_module_version": "1.2.0",
      "model_name": "LayoutModel",
      "state": {}
     },
     "5b835961ee354f2a896dcc4a954c3929": {
      "model_module": "@jupyter-widgets/base",
      "model_module_version": "1.2.0",
      "model_name": "LayoutModel",
      "state": {}
     },
     "5ba5a361abbe4e06bd3b52ca66a82e7d": {
      "model_module": "@jupyter-widgets/base",
      "model_module_version": "1.2.0",
      "model_name": "LayoutModel",
      "state": {}
     },
     "5c89be853a1147289b96ca3c54d580ea": {
      "model_module": "@jupyter-widgets/controls",
      "model_module_version": "1.5.0",
      "model_name": "HTMLModel",
      "state": {
       "layout": "IPY_MODEL_8667950b482b4b578b16e90c4cb92cb7",
       "style": "IPY_MODEL_e59aa8059f394e07a0a61965da0d60a4",
       "value": "bamboolib is loading ..."
      }
     },
     "5ca09cc2b1284ed3a1db949490e64903": {
      "model_module": "@jupyter-widgets/controls",
      "model_module_version": "1.5.0",
      "model_name": "HTMLModel",
      "state": {
       "layout": "IPY_MODEL_b7816383fe1e44a8abf8a8fd48e1c366",
       "style": "IPY_MODEL_18a1c634bf79431380254b3e24b0ca5e",
       "value": "<div style=\"color:#721c24;background-color:#f8d7da;border-color:#f5c6cb;position: relative;padding: 8px 12px;margin-bottom: 12px;border: 1px solid transparent;border-radius: 5px;line-height: 1.5;\" class=\"bamboolib-notification bamboolib-notification-error\">\n<p>bamboolib does not work if the dataframe is not assigned to a variable. <b>Please assign the dataframe to a variable.</b></p>\n<br>\n<p>For example, maybe you typed something like:</p>\n<pre><code>    pd.read_csv(\"titanic.csv\")</code></pre>\n<br>\n<p>Please write it as follows:</p>\n<pre><code>    df = pd.read_csv(\"titanic.csv\")\n    df</code></pre>\n            </div>"
      }
     },
     "5caee555cb114173a34190c113e6fd74": {
      "model_module": "@jupyter-widgets/controls",
      "model_module_version": "1.5.0",
      "model_name": "ButtonStyleModel",
      "state": {}
     },
     "5dee2b7e9c7b4dbeac3729184bd062aa": {
      "model_module": "@jupyter-widgets/base",
      "model_module_version": "1.2.0",
      "model_name": "LayoutModel",
      "state": {}
     },
     "5e1a190cb80e480e96a4ea8d63a486d9": {
      "model_module": "@jupyter-widgets/base",
      "model_module_version": "1.2.0",
      "model_name": "LayoutModel",
      "state": {}
     },
     "5fb0065dab7a4e7aaf992906044f10cf": {
      "model_module": "bamboolib",
      "model_module_version": "1.15.0",
      "model_name": "ButtonModel",
      "state": {
       "_dom_classes": [
        "bamboolib-show-ui-button",
        "bamboolib-button-primary"
       ],
       "_model_module_version": "1.15.0",
       "_view_module_version": "1.15.0",
       "description": "Show bamboolib UI",
       "layout": "IPY_MODEL_f26a2991758a4f089f77972b134e6222",
       "style": "IPY_MODEL_5426ef8d15434a92914fbbaf02cf9d01"
      }
     },
     "600b6627aee0492ca8e81749f810e466": {
      "model_module": "@jupyter-widgets/base",
      "model_module_version": "1.2.0",
      "model_name": "LayoutModel",
      "state": {}
     },
     "60ee4e448b4a4ee88d4155b86f36adfb": {
      "model_module": "@jupyter-widgets/controls",
      "model_module_version": "1.5.0",
      "model_name": "VBoxModel",
      "state": {
       "children": [
        "IPY_MODEL_a235cb12814c4321993214f087e43fa7",
        "IPY_MODEL_0bbe293199714765b3a6e2ffc343e30f"
       ],
       "layout": "IPY_MODEL_2eeef5ff3c994b0dbe9416f2f480d765"
      }
     },
     "61e1b2faf90a4ebe90cd3d36f3b5c67c": {
      "model_module": "@jupyter-widgets/controls",
      "model_module_version": "1.5.0",
      "model_name": "DescriptionStyleModel",
      "state": {
       "description_width": ""
      }
     },
     "61f043bedf91473386842e53b3f1d4bc": {
      "model_module": "@jupyter-widgets/output",
      "model_module_version": "1.0.0",
      "model_name": "OutputModel",
      "state": {
       "layout": "IPY_MODEL_db6cbf8545c24f18969df48fcc00d1bd",
       "outputs": [
        {
         "data": {
          "text/html": "<div>\n<style scoped>\n    .dataframe tbody tr th:only-of-type {\n        vertical-align: middle;\n    }\n\n    .dataframe tbody tr th {\n        vertical-align: top;\n    }\n\n    .dataframe thead th {\n        text-align: right;\n    }\n</style>\n<table border=\"1\" class=\"dataframe\">\n  <thead>\n    <tr style=\"text-align: right;\">\n      <th></th>\n      <th>password</th>\n      <th>strength</th>\n    </tr>\n  </thead>\n  <tbody>\n    <tr>\n      <th>0</th>\n      <td>kzde5577</td>\n      <td>1</td>\n    </tr>\n    <tr>\n      <th>1</th>\n      <td>kino3434</td>\n      <td>1</td>\n    </tr>\n    <tr>\n      <th>2</th>\n      <td>visi7k1yr</td>\n      <td>1</td>\n    </tr>\n    <tr>\n      <th>3</th>\n      <td>megzy123</td>\n      <td>1</td>\n    </tr>\n    <tr>\n      <th>4</th>\n      <td>lamborghin1</td>\n      <td>1</td>\n    </tr>\n  </tbody>\n</table>\n</div>",
          "text/plain": "      password  strength\n0     kzde5577         1\n1     kino3434         1\n2    visi7k1yr         1\n3     megzy123         1\n4  lamborghin1         1"
         },
         "metadata": {},
         "output_type": "display_data"
        }
       ]
      }
     },
     "626b97d041a1460094abd32bd955e04c": {
      "model_module": "@jupyter-widgets/controls",
      "model_module_version": "1.5.0",
      "model_name": "DescriptionStyleModel",
      "state": {
       "description_width": ""
      }
     },
     "631f25e905404e6dad182da05c60c100": {
      "model_module": "@jupyter-widgets/controls",
      "model_module_version": "1.5.0",
      "model_name": "HBoxModel",
      "state": {
       "children": [
        "IPY_MODEL_0e0c7dbc200d473790a2ab0f44d8458f"
       ],
       "layout": "IPY_MODEL_5b835961ee354f2a896dcc4a954c3929"
      }
     },
     "637a8f82df784691a6cb9dfcdddef33a": {
      "model_module": "@jupyter-widgets/output",
      "model_module_version": "1.0.0",
      "model_name": "OutputModel",
      "state": {
       "layout": "IPY_MODEL_d8dfe74684224392914e282569267914",
       "outputs": [
        {
         "data": {
          "text/html": "<div>\n<style scoped>\n    .dataframe tbody tr th:only-of-type {\n        vertical-align: middle;\n    }\n\n    .dataframe tbody tr th {\n        vertical-align: top;\n    }\n\n    .dataframe thead th {\n        text-align: right;\n    }\n</style>\n<table border=\"1\" class=\"dataframe\">\n  <thead>\n    <tr style=\"text-align: right;\">\n      <th></th>\n      <th>password</th>\n      <th>strength</th>\n    </tr>\n  </thead>\n  <tbody>\n    <tr>\n      <th>367579</th>\n      <td>NaN</td>\n      <td>0</td>\n    </tr>\n  </tbody>\n</table>\n</div>",
          "text/plain": "       password  strength\n367579      NaN         0"
         },
         "metadata": {},
         "output_type": "display_data"
        }
       ]
      }
     },
     "63cd8f0744f340a49a7fb290df26b116": {
      "model_module": "@jupyter-widgets/controls",
      "model_module_version": "1.5.0",
      "model_name": "VBoxModel",
      "state": {
       "children": [
        "IPY_MODEL_db71b41513094199ba8767488e452601",
        "IPY_MODEL_8ca93c5f67014f30bdea630ee2d1459a"
       ],
       "layout": "IPY_MODEL_9815932b86ff461f9498ca2ec1b802a6"
      }
     },
     "64090c82c2404fb192b9980e244df8ab": {
      "model_module": "@jupyter-widgets/base",
      "model_module_version": "1.2.0",
      "model_name": "LayoutModel",
      "state": {}
     },
     "655ea90198cb4c378fc4ed0c2bf25265": {
      "model_module": "@jupyter-widgets/controls",
      "model_module_version": "1.5.0",
      "model_name": "VBoxModel",
      "state": {
       "_dom_classes": [
        "bamboolib-hidden"
       ],
       "children": [
        "IPY_MODEL_1239631d4d9d45a0958d49daffeadeee"
       ],
       "layout": "IPY_MODEL_290d6fbef7d24d899fbf6946d1377a12"
      }
     },
     "65a113e533b64233a610895180c1b2be": {
      "model_module": "@jupyter-widgets/base",
      "model_module_version": "1.2.0",
      "model_name": "LayoutModel",
      "state": {}
     },
     "6648edd694e74e34a23351da58c5352e": {
      "model_module": "@jupyter-widgets/base",
      "model_module_version": "1.2.0",
      "model_name": "LayoutModel",
      "state": {}
     },
     "66bcdc27301e454ba6d78d0d57b20caa": {
      "model_module": "@jupyter-widgets/controls",
      "model_module_version": "1.5.0",
      "model_name": "HBoxModel",
      "state": {
       "children": [
        "IPY_MODEL_7c2ade9bcece410094a25e950c2ad782"
       ],
       "layout": "IPY_MODEL_2c5bc04ce1444a298c70914605a2886d"
      }
     },
     "69b8c5a9f178438c9d67b2740bfb513e": {
      "model_module": "@jupyter-widgets/controls",
      "model_module_version": "1.5.0",
      "model_name": "DescriptionStyleModel",
      "state": {
       "description_width": ""
      }
     },
     "6b386bb261594afdb9bf310f716e2cd9": {
      "model_module": "@jupyter-widgets/base",
      "model_module_version": "1.2.0",
      "model_name": "LayoutModel",
      "state": {}
     },
     "6b50349d409a4a9b8f9788693c375044": {
      "model_module": "@jupyter-widgets/base",
      "model_module_version": "1.2.0",
      "model_name": "LayoutModel",
      "state": {}
     },
     "6b5b6fdef6c44437b7ff5112f98b5701": {
      "model_module": "@jupyter-widgets/base",
      "model_module_version": "1.2.0",
      "model_name": "LayoutModel",
      "state": {}
     },
     "6bcf7d6f9f964851967823be0003f55e": {
      "model_module": "@jupyter-widgets/controls",
      "model_module_version": "1.5.0",
      "model_name": "VBoxModel",
      "state": {
       "children": [
        "IPY_MODEL_8f9f710129834c8999a0863bb406d2e9",
        "IPY_MODEL_163ea1c8c4f846f4a09e1c020602220c"
       ],
       "layout": "IPY_MODEL_29578a7cce0348e7891d1e94674f16d7"
      }
     },
     "6c3c3e63dbc64364bf4846de3fcf25eb": {
      "model_module": "@jupyter-widgets/controls",
      "model_module_version": "1.5.0",
      "model_name": "DescriptionStyleModel",
      "state": {
       "description_width": ""
      }
     },
     "6f25ab6cdbb14a0b98702e495cc32b07": {
      "model_module": "@jupyter-widgets/output",
      "model_module_version": "1.0.0",
      "model_name": "OutputModel",
      "state": {
       "layout": "IPY_MODEL_8d03d5a3e58c477398ded22971e95e13",
       "outputs": [
        {
         "data": {
          "text/html": "<div>\n<style scoped>\n    .dataframe tbody tr th:only-of-type {\n        vertical-align: middle;\n    }\n\n    .dataframe tbody tr th {\n        vertical-align: top;\n    }\n\n    .dataframe thead th {\n        text-align: right;\n    }\n</style>\n<table border=\"1\" class=\"dataframe\">\n  <thead>\n    <tr style=\"text-align: right;\">\n      <th></th>\n      <th>password</th>\n      <th>strength</th>\n    </tr>\n  </thead>\n  <tbody>\n    <tr>\n      <th>367579</th>\n      <td>NaN</td>\n      <td>0</td>\n    </tr>\n  </tbody>\n</table>\n</div>",
          "text/plain": "       password  strength\n367579      NaN         0"
         },
         "metadata": {},
         "output_type": "display_data"
        }
       ]
      }
     },
     "6f56ac97a3b84e898c55f1275fa17e00": {
      "model_module": "@jupyter-widgets/controls",
      "model_module_version": "1.5.0",
      "model_name": "VBoxModel",
      "state": {
       "_dom_classes": [
        "bamboolib-hidden"
       ],
       "children": [
        "IPY_MODEL_50b4ef4ddffa4290b61760d3e2aebe6d"
       ],
       "layout": "IPY_MODEL_820711bdbcb443b8862210d42890af89"
      }
     },
     "70247f0fc5cb47d0907360b2a59fce68": {
      "model_module": "@jupyter-widgets/base",
      "model_module_version": "1.2.0",
      "model_name": "LayoutModel",
      "state": {}
     },
     "703eb23751af42a3999e2213ae4f1c88": {
      "model_module": "@jupyter-widgets/controls",
      "model_module_version": "1.5.0",
      "model_name": "DescriptionStyleModel",
      "state": {
       "description_width": ""
      }
     },
     "72a5bdd2ef6045b8bbdfd7721feb3c33": {
      "model_module": "@jupyter-widgets/controls",
      "model_module_version": "1.5.0",
      "model_name": "DescriptionStyleModel",
      "state": {
       "description_width": ""
      }
     },
     "72d17635a4094ec48be265ca734c5cae": {
      "model_module": "@jupyter-widgets/controls",
      "model_module_version": "1.5.0",
      "model_name": "HTMLModel",
      "state": {
       "layout": "IPY_MODEL_c29068d4b967460c93da18a5606bfca4",
       "style": "IPY_MODEL_69b8c5a9f178438c9d67b2740bfb513e",
       "value": "bamboolib is loading ..."
      }
     },
     "733f12af5c214f4fafaf77e4da1fd6f0": {
      "model_module": "@jupyter-widgets/base",
      "model_module_version": "1.2.0",
      "model_name": "LayoutModel",
      "state": {}
     },
     "73b308d1d2a042f1a3c57b0559d214ce": {
      "model_module": "@jupyter-widgets/controls",
      "model_module_version": "1.5.0",
      "model_name": "DescriptionStyleModel",
      "state": {
       "description_width": ""
      }
     },
     "73eac35e8bbf42f98a74cc7b3f4603f8": {
      "model_module": "@jupyter-widgets/base",
      "model_module_version": "1.2.0",
      "model_name": "LayoutModel",
      "state": {}
     },
     "750c303fbf9a4cfa8ccfe1720bb63fd3": {
      "model_module": "@jupyter-widgets/controls",
      "model_module_version": "1.5.0",
      "model_name": "ButtonStyleModel",
      "state": {}
     },
     "75b3bc2e311f406ab712737e230ac0b4": {
      "model_module": "@jupyter-widgets/base",
      "model_module_version": "1.2.0",
      "model_name": "LayoutModel",
      "state": {}
     },
     "76a96e6d54914a679191e12e9b65927f": {
      "model_module": "@jupyter-widgets/output",
      "model_module_version": "1.0.0",
      "model_name": "OutputModel",
      "state": {
       "layout": "IPY_MODEL_c7b36cb2a18f41f8a550d9b39cbae518",
       "outputs": [
        {
         "data": {
          "text/html": "<div>\n<style scoped>\n    .dataframe tbody tr th:only-of-type {\n        vertical-align: middle;\n    }\n\n    .dataframe tbody tr th {\n        vertical-align: top;\n    }\n\n    .dataframe thead th {\n        text-align: right;\n    }\n</style>\n<table border=\"1\" class=\"dataframe\">\n  <thead>\n    <tr style=\"text-align: right;\">\n      <th></th>\n      <th>password</th>\n      <th>strength</th>\n    </tr>\n  </thead>\n  <tbody>\n    <tr>\n      <th>0</th>\n      <td>kzde5577</td>\n      <td>1</td>\n    </tr>\n    <tr>\n      <th>1</th>\n      <td>kino3434</td>\n      <td>1</td>\n    </tr>\n    <tr>\n      <th>2</th>\n      <td>visi7k1yr</td>\n      <td>1</td>\n    </tr>\n    <tr>\n      <th>3</th>\n      <td>megzy123</td>\n      <td>1</td>\n    </tr>\n    <tr>\n      <th>4</th>\n      <td>lamborghin1</td>\n      <td>1</td>\n    </tr>\n  </tbody>\n</table>\n</div>",
          "text/plain": "      password  strength\n0     kzde5577         1\n1     kino3434         1\n2    visi7k1yr         1\n3     megzy123         1\n4  lamborghin1         1"
         },
         "metadata": {},
         "output_type": "display_data"
        }
       ]
      }
     },
     "771379dc1d5043f0835b98dd93d8c459": {
      "model_module": "@jupyter-widgets/controls",
      "model_module_version": "1.5.0",
      "model_name": "DescriptionStyleModel",
      "state": {
       "description_width": ""
      }
     },
     "77da4942dcd94354a484a8a244cbe1da": {
      "model_module": "@jupyter-widgets/base",
      "model_module_version": "1.2.0",
      "model_name": "LayoutModel",
      "state": {}
     },
     "77f334412b554b77bc745c35a37d7e97": {
      "model_module": "@jupyter-widgets/controls",
      "model_module_version": "1.5.0",
      "model_name": "HTMLModel",
      "state": {
       "layout": "IPY_MODEL_6b386bb261594afdb9bf310f716e2cd9",
       "style": "IPY_MODEL_54bb2d931dac465a8e7683586803ff3e",
       "value": "bamboolib is loading ..."
      }
     },
     "785228ef629f4a1a96605a8b152c642b": {
      "model_module": "bamboolib",
      "model_module_version": "1.15.0",
      "model_name": "ButtonModel",
      "state": {
       "_dom_classes": [
        "bamboolib-show-ui-button",
        "bamboolib-button-primary"
       ],
       "_model_module_version": "1.15.0",
       "_view_module_version": "1.15.0",
       "description": "Show bamboolib UI",
       "layout": "IPY_MODEL_d84c56ab62a146feb33336b0ba8fca19",
       "style": "IPY_MODEL_08eb3cb3890446f8b620b883aa907aaa"
      }
     },
     "79d25f06a93e4676ae5480e01fb9860b": {
      "model_module": "@jupyter-widgets/base",
      "model_module_version": "1.2.0",
      "model_name": "LayoutModel",
      "state": {}
     },
     "7a0c642677a74972b763fa32c58b3409": {
      "model_module": "@jupyter-widgets/base",
      "model_module_version": "1.2.0",
      "model_name": "LayoutModel",
      "state": {}
     },
     "7a89dc81683044c791fa670671acc7fe": {
      "model_module": "@jupyter-widgets/base",
      "model_module_version": "1.2.0",
      "model_name": "LayoutModel",
      "state": {}
     },
     "7b6f3e46e8e7404b92b68c9f1d4ad279": {
      "model_module": "@jupyter-widgets/controls",
      "model_module_version": "1.5.0",
      "model_name": "DescriptionStyleModel",
      "state": {
       "description_width": ""
      }
     },
     "7ba1c6cae48a4e1da77e1e287b48395e": {
      "model_module": "@jupyter-widgets/controls",
      "model_module_version": "1.5.0",
      "model_name": "HTMLModel",
      "state": {
       "layout": "IPY_MODEL_b56cb6dc7ba54f1aaa6d6c6c8f530068",
       "style": "IPY_MODEL_7b6f3e46e8e7404b92b68c9f1d4ad279",
       "value": "bamboolib is loading ..."
      }
     },
     "7c2ade9bcece410094a25e950c2ad782": {
      "model_module": "bamboolib",
      "model_module_version": "1.15.0",
      "model_name": "ButtonModel",
      "state": {
       "_dom_classes": [
        "bamboolib-show-ui-button",
        "bamboolib-button-primary"
       ],
       "_model_module_version": "1.15.0",
       "_view_module_version": "1.15.0",
       "description": "Show bamboolib UI",
       "layout": "IPY_MODEL_a72d6fb0a1de41ce8ba2026157da8e77",
       "style": "IPY_MODEL_750c303fbf9a4cfa8ccfe1720bb63fd3"
      }
     },
     "7c6e88b4747d4bb3bdceea3bfe48e526": {
      "model_module": "@jupyter-widgets/controls",
      "model_module_version": "1.5.0",
      "model_name": "VBoxModel",
      "state": {
       "children": [
        "IPY_MODEL_10d643157cd5489ca33abee330883718",
        "IPY_MODEL_6f56ac97a3b84e898c55f1275fa17e00"
       ],
       "layout": "IPY_MODEL_405be22fe43e47b087d4cd4d5d3887ae"
      }
     },
     "7cb2d73953d54e3db4281f835552a725": {
      "model_module": "@jupyter-widgets/base",
      "model_module_version": "1.2.0",
      "model_name": "LayoutModel",
      "state": {}
     },
     "7d844624966a42a081fd45644464b027": {
      "model_module": "@jupyter-widgets/base",
      "model_module_version": "1.2.0",
      "model_name": "LayoutModel",
      "state": {}
     },
     "7e01aeeec7e54c158125c1f7caa77aaa": {
      "model_module": "@jupyter-widgets/controls",
      "model_module_version": "1.5.0",
      "model_name": "HTMLModel",
      "state": {
       "layout": "IPY_MODEL_13cf61f7718941a1b862d67370c03bab",
       "style": "IPY_MODEL_c09512c03dab46d09ab3faa5710fa5a5",
       "value": "bamboolib is loading ..."
      }
     },
     "7facb8d420a64480b67c92af4b526497": {
      "model_module": "@jupyter-widgets/controls",
      "model_module_version": "1.5.0",
      "model_name": "ButtonStyleModel",
      "state": {}
     },
     "802c211f76a249a8a8f98076ec8a84ba": {
      "model_module": "@jupyter-widgets/controls",
      "model_module_version": "1.5.0",
      "model_name": "HTMLModel",
      "state": {
       "layout": "IPY_MODEL_063139a281a54d08a293d8e7e9658b23",
       "style": "IPY_MODEL_e01aaee05486438d9afb0bea2099e20c",
       "value": "<div style=\"color:#721c24;background-color:#f8d7da;border-color:#f5c6cb;position: relative;padding: 8px 12px;margin-bottom: 12px;border: 1px solid transparent;border-radius: 5px;line-height: 1.5;\" class=\"bamboolib-notification bamboolib-notification-error\">\n<p>bamboolib does not work if the dataframe is not assigned to a variable. <b>Please assign the dataframe to a variable.</b></p>\n<br>\n<p>For example, maybe you typed something like:</p>\n<pre><code>    pd.read_csv(\"titanic.csv\")</code></pre>\n<br>\n<p>Please write it as follows:</p>\n<pre><code>    df = pd.read_csv(\"titanic.csv\")\n    df</code></pre>\n            </div>"
      }
     },
     "820711bdbcb443b8862210d42890af89": {
      "model_module": "@jupyter-widgets/base",
      "model_module_version": "1.2.0",
      "model_name": "LayoutModel",
      "state": {}
     },
     "8223b8ba35604accbde6826066adf3c8": {
      "model_module": "@jupyter-widgets/output",
      "model_module_version": "1.0.0",
      "model_name": "OutputModel",
      "state": {
       "layout": "IPY_MODEL_dfd3bf5d32624b2e8c944476a2666d8d",
       "outputs": [
        {
         "data": {
          "text/html": "<div>\n<style scoped>\n    .dataframe tbody tr th:only-of-type {\n        vertical-align: middle;\n    }\n\n    .dataframe tbody tr th {\n        vertical-align: top;\n    }\n\n    .dataframe thead th {\n        text-align: right;\n    }\n</style>\n<table border=\"1\" class=\"dataframe\">\n  <thead>\n    <tr style=\"text-align: right;\">\n      <th></th>\n      <th>tfidf</th>\n    </tr>\n  </thead>\n  <tbody>\n    <tr>\n      <th>7</th>\n      <td>0.592347</td>\n    </tr>\n    <tr>\n      <th>5</th>\n      <td>0.566064</td>\n    </tr>\n    <tr>\n      <th>z</th>\n      <td>0.336024</td>\n    </tr>\n    <tr>\n      <th>k</th>\n      <td>0.291935</td>\n    </tr>\n    <tr>\n      <th>d</th>\n      <td>0.285643</td>\n    </tr>\n    <tr>\n      <th>...</th>\n      <td>...</td>\n    </tr>\n    <tr>\n      <th>&lt;</th>\n      <td>0.000000</td>\n    </tr>\n    <tr>\n      <th>;</th>\n      <td>0.000000</td>\n    </tr>\n    <tr>\n      <th>9</th>\n      <td>0.000000</td>\n    </tr>\n    <tr>\n      <th>8</th>\n      <td>0.000000</td>\n    </tr>\n    <tr>\n      <th>…</th>\n      <td>0.000000</td>\n    </tr>\n  </tbody>\n</table>\n<p>131 rows × 1 columns</p>\n</div>",
          "text/plain": "       tfidf\n7   0.592347\n5   0.566064\nz   0.336024\nk   0.291935\nd   0.285643\n..       ...\n<   0.000000\n;   0.000000\n9   0.000000\n8   0.000000\n…   0.000000\n\n[131 rows x 1 columns]"
         },
         "metadata": {},
         "output_type": "display_data"
        }
       ]
      }
     },
     "83dce090adf64fa8aa0c8c5d8d158559": {
      "model_module": "@jupyter-widgets/controls",
      "model_module_version": "1.5.0",
      "model_name": "HTMLModel",
      "state": {
       "layout": "IPY_MODEL_d81dab1ff2004587907c962acea34b37",
       "style": "IPY_MODEL_9741a669452b48a6ba71976e74bc1238",
       "value": "bamboolib is loading ..."
      }
     },
     "8406797a360b4ead9b9b53995ccdc7c3": {
      "model_module": "@jupyter-widgets/controls",
      "model_module_version": "1.5.0",
      "model_name": "HBoxModel",
      "state": {
       "children": [
        "IPY_MODEL_1fd12d191bb84efc927f61584a72d658"
       ],
       "layout": "IPY_MODEL_eb1a3e5beb2548a58fd2eda400ff0886"
      }
     },
     "85862ec360e24d45b66e1e3e37e2398d": {
      "model_module": "@jupyter-widgets/base",
      "model_module_version": "1.2.0",
      "model_name": "LayoutModel",
      "state": {}
     },
     "8667950b482b4b578b16e90c4cb92cb7": {
      "model_module": "@jupyter-widgets/base",
      "model_module_version": "1.2.0",
      "model_name": "LayoutModel",
      "state": {}
     },
     "86a57e3b9eb4478cb97933a1ba646c30": {
      "model_module": "@jupyter-widgets/output",
      "model_module_version": "1.0.0",
      "model_name": "OutputModel",
      "state": {
       "layout": "IPY_MODEL_5ba5a361abbe4e06bd3b52ca66a82e7d",
       "outputs": [
        {
         "data": {
          "text/html": "<div>\n<style scoped>\n    .dataframe tbody tr th:only-of-type {\n        vertical-align: middle;\n    }\n\n    .dataframe tbody tr th {\n        vertical-align: top;\n    }\n\n    .dataframe thead th {\n        text-align: right;\n    }\n</style>\n<table border=\"1\" class=\"dataframe\">\n  <thead>\n    <tr style=\"text-align: right;\">\n      <th></th>\n      <th>password</th>\n      <th>strength</th>\n    </tr>\n  </thead>\n  <tbody>\n    <tr>\n      <th>0</th>\n      <td>kzde5577</td>\n      <td>1</td>\n    </tr>\n    <tr>\n      <th>1</th>\n      <td>kino3434</td>\n      <td>1</td>\n    </tr>\n    <tr>\n      <th>2</th>\n      <td>visi7k1yr</td>\n      <td>1</td>\n    </tr>\n    <tr>\n      <th>3</th>\n      <td>megzy123</td>\n      <td>1</td>\n    </tr>\n    <tr>\n      <th>4</th>\n      <td>lamborghin1</td>\n      <td>1</td>\n    </tr>\n  </tbody>\n</table>\n</div>",
          "text/plain": "      password  strength\n0     kzde5577         1\n1     kino3434         1\n2    visi7k1yr         1\n3     megzy123         1\n4  lamborghin1         1"
         },
         "metadata": {},
         "output_type": "display_data"
        }
       ]
      }
     },
     "88220ef8588a49f78c651d5f7f4a3bcb": {
      "model_module": "@jupyter-widgets/controls",
      "model_module_version": "1.5.0",
      "model_name": "DescriptionStyleModel",
      "state": {
       "description_width": ""
      }
     },
     "8927c3b2cfa4477c8381e45d8799eb4b": {
      "model_module": "@jupyter-widgets/controls",
      "model_module_version": "1.5.0",
      "model_name": "HTMLModel",
      "state": {
       "layout": "IPY_MODEL_df70b36e1672406b83003909f2ecfb78",
       "style": "IPY_MODEL_73b308d1d2a042f1a3c57b0559d214ce",
       "value": "bamboolib is loading ..."
      }
     },
     "8c04ce460a734e8d9fd855b49ba23da1": {
      "model_module": "@jupyter-widgets/output",
      "model_module_version": "1.0.0",
      "model_name": "OutputModel",
      "state": {
       "layout": "IPY_MODEL_54f9410bf3764026b3d140b2c1dfad68",
       "outputs": [
        {
         "data": {
          "text/html": "<div>\n<style scoped>\n    .dataframe tbody tr th:only-of-type {\n        vertical-align: middle;\n    }\n\n    .dataframe tbody tr th {\n        vertical-align: top;\n    }\n\n    .dataframe thead th {\n        text-align: right;\n    }\n</style>\n<table border=\"1\" class=\"dataframe\">\n  <thead>\n    <tr style=\"text-align: right;\">\n      <th></th>\n      <th>password</th>\n      <th>strength</th>\n    </tr>\n  </thead>\n  <tbody>\n    <tr>\n      <th>367579</th>\n      <td>NaN</td>\n      <td>0</td>\n    </tr>\n  </tbody>\n</table>\n</div>",
          "text/plain": "       password  strength\n367579      NaN         0"
         },
         "metadata": {},
         "output_type": "display_data"
        }
       ]
      }
     },
     "8c5dd400d88f4473b8a49a6a7aeb2364": {
      "model_module": "@jupyter-widgets/base",
      "model_module_version": "1.2.0",
      "model_name": "LayoutModel",
      "state": {}
     },
     "8c6674f5494d4b99bf27d513c7c372ab": {
      "model_module": "@jupyter-widgets/base",
      "model_module_version": "1.2.0",
      "model_name": "LayoutModel",
      "state": {}
     },
     "8c9063e098784f8480cbc99ee3439656": {
      "model_module": "@jupyter-widgets/controls",
      "model_module_version": "1.5.0",
      "model_name": "DescriptionStyleModel",
      "state": {
       "description_width": ""
      }
     },
     "8ca93c5f67014f30bdea630ee2d1459a": {
      "model_module": "@jupyter-widgets/controls",
      "model_module_version": "1.5.0",
      "model_name": "VBoxModel",
      "state": {
       "children": [
        "IPY_MODEL_8223b8ba35604accbde6826066adf3c8",
        "IPY_MODEL_3d286cd38f064960a8db05da39c031f9"
       ],
       "layout": "IPY_MODEL_9883dc8ec68f47e09d9fb30733554bb8"
      }
     },
     "8cda4fa7b55e445bb4a4ab10c87cb16a": {
      "model_module": "@jupyter-widgets/controls",
      "model_module_version": "1.5.0",
      "model_name": "VBoxModel",
      "state": {
       "_dom_classes": [
        "bamboolib-hidden"
       ],
       "children": [
        "IPY_MODEL_def77f2cd9354be39e9a696bb8102965"
       ],
       "layout": "IPY_MODEL_9f032675fabe4bb391832e3b06465a4d"
      }
     },
     "8d03d5a3e58c477398ded22971e95e13": {
      "model_module": "@jupyter-widgets/base",
      "model_module_version": "1.2.0",
      "model_name": "LayoutModel",
      "state": {}
     },
     "8d20570ed652410ab7e0a1482fc08fff": {
      "model_module": "@jupyter-widgets/controls",
      "model_module_version": "1.5.0",
      "model_name": "DescriptionStyleModel",
      "state": {
       "description_width": ""
      }
     },
     "8d6af3c2117045f6bce258447013af96": {
      "model_module": "@jupyter-widgets/controls",
      "model_module_version": "1.5.0",
      "model_name": "DescriptionStyleModel",
      "state": {
       "description_width": ""
      }
     },
     "8e07215b21ca419b8968e0d7967e458a": {
      "model_module": "@jupyter-widgets/base",
      "model_module_version": "1.2.0",
      "model_name": "LayoutModel",
      "state": {}
     },
     "8e86692027754b40bab3c9a23a5d29b7": {
      "model_module": "bamboolib",
      "model_module_version": "1.15.0",
      "model_name": "ButtonModel",
      "state": {
       "_dom_classes": [
        "bamboolib-show-ui-button",
        "bamboolib-button-primary"
       ],
       "_model_module_version": "1.15.0",
       "_view_module_version": "1.15.0",
       "description": "Show bamboolib UI",
       "layout": "IPY_MODEL_d02723a79efa4dffa613d8ee9e348c90",
       "style": "IPY_MODEL_1a0204a083aa4402b91451406b888895"
      }
     },
     "8f901bbcc9aa403eb139681382f0bfc5": {
      "model_module": "@jupyter-widgets/controls",
      "model_module_version": "1.5.0",
      "model_name": "HTMLModel",
      "state": {
       "layout": "IPY_MODEL_be079bfbadce43e39fb860623adf62a4",
       "style": "IPY_MODEL_72a5bdd2ef6045b8bbdfd7721feb3c33",
       "value": "<div style=\"color:#721c24;background-color:#f8d7da;border-color:#f5c6cb;position: relative;padding: 8px 12px;margin-bottom: 12px;border: 1px solid transparent;border-radius: 5px;line-height: 1.5;\" class=\"bamboolib-notification bamboolib-notification-error\">\n<p>bamboolib does not work if the dataframe is not assigned to a variable. <b>Please assign the dataframe to a variable.</b></p>\n<br>\n<p>For example, maybe you typed something like:</p>\n<pre><code>    pd.read_csv(\"titanic.csv\")</code></pre>\n<br>\n<p>Please write it as follows:</p>\n<pre><code>    df = pd.read_csv(\"titanic.csv\")\n    df</code></pre>\n            </div>"
      }
     },
     "8f9f710129834c8999a0863bb406d2e9": {
      "model_module": "@jupyter-widgets/controls",
      "model_module_version": "1.5.0",
      "model_name": "HBoxModel",
      "state": {
       "children": [
        "IPY_MODEL_0dc5d7f78e5c44edb554c662c9d37ddd"
       ],
       "layout": "IPY_MODEL_07265edd1f13412ba675041fa71026b4"
      }
     },
     "90df204d38e448ceb4c2a74def671d70": {
      "model_module": "@jupyter-widgets/base",
      "model_module_version": "1.2.0",
      "model_name": "LayoutModel",
      "state": {}
     },
     "911be3a4230b49489d9082d98039ff58": {
      "model_module": "@jupyter-widgets/controls",
      "model_module_version": "1.5.0",
      "model_name": "HTMLModel",
      "state": {
       "layout": "IPY_MODEL_600b6627aee0492ca8e81749f810e466",
       "style": "IPY_MODEL_2d6144fdec0949e2b0a6a75d3e94757e",
       "value": "<div style=\"color:#721c24;background-color:#f8d7da;border-color:#f5c6cb;position: relative;padding: 8px 12px;margin-bottom: 12px;border: 1px solid transparent;border-radius: 5px;line-height: 1.5;\" class=\"bamboolib-notification bamboolib-notification-error\">\n<p>bamboolib does not work if the dataframe is not assigned to a variable. <b>Please assign the dataframe to a variable.</b></p>\n<br>\n<p>For example, maybe you typed something like:</p>\n<pre><code>    pd.read_csv(\"titanic.csv\")</code></pre>\n<br>\n<p>Please write it as follows:</p>\n<pre><code>    df = pd.read_csv(\"titanic.csv\")\n    df</code></pre>\n            </div>"
      }
     },
     "926313ccfbe149829f482fbff66d8c52": {
      "model_module": "@jupyter-widgets/base",
      "model_module_version": "1.2.0",
      "model_name": "LayoutModel",
      "state": {}
     },
     "943e15aa71f24b2e892150e80eac6b99": {
      "model_module": "@jupyter-widgets/controls",
      "model_module_version": "1.5.0",
      "model_name": "DescriptionStyleModel",
      "state": {
       "description_width": ""
      }
     },
     "94546e9f497d4b59b0edc1951d528940": {
      "model_module": "@jupyter-widgets/controls",
      "model_module_version": "1.5.0",
      "model_name": "VBoxModel",
      "state": {
       "children": [
        "IPY_MODEL_fc22bc68b5834328a7841efdd879d1ad",
        "IPY_MODEL_af5570df5ae14dc4842403b1844c1ae2"
       ],
       "layout": "IPY_MODEL_4b93fd0fa8a84d2e862aca2007772d8d"
      }
     },
     "94f8cd462eb94a37b27b94c7222f0db3": {
      "model_module": "@jupyter-widgets/controls",
      "model_module_version": "1.5.0",
      "model_name": "VBoxModel",
      "state": {
       "children": [
        "IPY_MODEL_c91506a097814b84bfaa88a754cd7b48",
        "IPY_MODEL_a54bee2bddb74f38b8244d8e2176fbdf"
       ],
       "layout": "IPY_MODEL_7d844624966a42a081fd45644464b027"
      }
     },
     "95fa4d9d0e9b4c2a82ff8ffa416a7e4b": {
      "model_module": "@jupyter-widgets/base",
      "model_module_version": "1.2.0",
      "model_name": "LayoutModel",
      "state": {}
     },
     "96c586883afd44bd983012f854f8f2a9": {
      "model_module": "@jupyter-widgets/base",
      "model_module_version": "1.2.0",
      "model_name": "LayoutModel",
      "state": {}
     },
     "96e2ce9eccf6452e998021390f79edae": {
      "model_module": "@jupyter-widgets/controls",
      "model_module_version": "1.5.0",
      "model_name": "VBoxModel",
      "state": {
       "children": [
        "IPY_MODEL_d879b119353a4ca4b4a7b1f57c6b9fdf",
        "IPY_MODEL_bd8a88e2a6e141d0bf48701ea3b04c68"
       ],
       "layout": "IPY_MODEL_0f5515f09daf427891fcdbd1f642511c"
      }
     },
     "9741a669452b48a6ba71976e74bc1238": {
      "model_module": "@jupyter-widgets/controls",
      "model_module_version": "1.5.0",
      "model_name": "DescriptionStyleModel",
      "state": {
       "description_width": ""
      }
     },
     "9815932b86ff461f9498ca2ec1b802a6": {
      "model_module": "@jupyter-widgets/base",
      "model_module_version": "1.2.0",
      "model_name": "LayoutModel",
      "state": {}
     },
     "9883dc8ec68f47e09d9fb30733554bb8": {
      "model_module": "@jupyter-widgets/base",
      "model_module_version": "1.2.0",
      "model_name": "LayoutModel",
      "state": {}
     },
     "9b700d899068407e925ebc2962894998": {
      "model_module": "@jupyter-widgets/controls",
      "model_module_version": "1.5.0",
      "model_name": "VBoxModel",
      "state": {
       "children": [
        "IPY_MODEL_9e97351f0a4e4f86aeb307cd11392ed9",
        "IPY_MODEL_a313d14a5ce143e2bdb4943e861dbfe8"
       ],
       "layout": "IPY_MODEL_b133335b0fc04aaa9931c5dee2091064"
      }
     },
     "9e97351f0a4e4f86aeb307cd11392ed9": {
      "model_module": "@jupyter-widgets/controls",
      "model_module_version": "1.5.0",
      "model_name": "HBoxModel",
      "state": {
       "children": [
        "IPY_MODEL_0aed1d4fe9b140079602f572af138b04"
       ],
       "layout": "IPY_MODEL_79d25f06a93e4676ae5480e01fb9860b"
      }
     },
     "9f032675fabe4bb391832e3b06465a4d": {
      "model_module": "@jupyter-widgets/base",
      "model_module_version": "1.2.0",
      "model_name": "LayoutModel",
      "state": {}
     },
     "a061304fbaea4156a28f546cc5043e6b": {
      "model_module": "@jupyter-widgets/base",
      "model_module_version": "1.2.0",
      "model_name": "LayoutModel",
      "state": {}
     },
     "a0c43ba93b8647adac11f60c48b71375": {
      "model_module": "@jupyter-widgets/controls",
      "model_module_version": "1.5.0",
      "model_name": "DescriptionStyleModel",
      "state": {
       "description_width": ""
      }
     },
     "a235cb12814c4321993214f087e43fa7": {
      "model_module": "@jupyter-widgets/controls",
      "model_module_version": "1.5.0",
      "model_name": "HBoxModel",
      "state": {
       "children": [
        "IPY_MODEL_8e86692027754b40bab3c9a23a5d29b7"
       ],
       "layout": "IPY_MODEL_5a4b5aa687af4187969cbacd5e35e1a5"
      }
     },
     "a313d14a5ce143e2bdb4943e861dbfe8": {
      "model_module": "@jupyter-widgets/controls",
      "model_module_version": "1.5.0",
      "model_name": "VBoxModel",
      "state": {
       "children": [
        "IPY_MODEL_76a96e6d54914a679191e12e9b65927f",
        "IPY_MODEL_d157b9f27e694c76afdeb207984864ab"
       ],
       "layout": "IPY_MODEL_a061304fbaea4156a28f546cc5043e6b"
      }
     },
     "a384aab266b8489b84900082e15764bd": {
      "model_module": "@jupyter-widgets/base",
      "model_module_version": "1.2.0",
      "model_name": "LayoutModel",
      "state": {}
     },
     "a44ea568414f4fb0a57e66f3f5539491": {
      "model_module": "bamboolib",
      "model_module_version": "1.15.0",
      "model_name": "ButtonModel",
      "state": {
       "_dom_classes": [
        "bamboolib-show-ui-button",
        "bamboolib-button-primary"
       ],
       "_model_module_version": "1.15.0",
       "_view_module_version": "1.15.0",
       "description": "Show bamboolib UI",
       "layout": "IPY_MODEL_3b7cde68d20848a6bfc947256af0aee9",
       "style": "IPY_MODEL_1d7b9af4c9dd467181a32bd122d35e29"
      }
     },
     "a5027023defe4ad6bbb1021679d01b2e": {
      "model_module": "@jupyter-widgets/controls",
      "model_module_version": "1.5.0",
      "model_name": "VBoxModel",
      "state": {
       "children": [
        "IPY_MODEL_494ab53156b84350b1b783b815745fc2",
        "IPY_MODEL_18e22d027fd942b8b5c36fea7e8fa5ea"
       ],
       "layout": "IPY_MODEL_ac1ccec717b041edafedfe6129ba5479"
      }
     },
     "a54bee2bddb74f38b8244d8e2176fbdf": {
      "model_module": "@jupyter-widgets/controls",
      "model_module_version": "1.5.0",
      "model_name": "VBoxModel",
      "state": {
       "children": [
        "IPY_MODEL_e3aa4107f4854e51a3485b25ba20228c",
        "IPY_MODEL_a9fe29e772e24f2b87dda6094f5fd6e0"
       ],
       "layout": "IPY_MODEL_306bb32540da48e2bcdeefe83a01abe5"
      }
     },
     "a67d24de35a54f17a333b140877086e5": {
      "model_module": "@jupyter-widgets/controls",
      "model_module_version": "1.5.0",
      "model_name": "DescriptionStyleModel",
      "state": {
       "description_width": ""
      }
     },
     "a72d6fb0a1de41ce8ba2026157da8e77": {
      "model_module": "@jupyter-widgets/base",
      "model_module_version": "1.2.0",
      "model_name": "LayoutModel",
      "state": {}
     },
     "a9fe29e772e24f2b87dda6094f5fd6e0": {
      "model_module": "@jupyter-widgets/controls",
      "model_module_version": "1.5.0",
      "model_name": "VBoxModel",
      "state": {
       "_dom_classes": [
        "bamboolib-hidden"
       ],
       "children": [
        "IPY_MODEL_8f901bbcc9aa403eb139681382f0bfc5"
       ],
       "layout": "IPY_MODEL_926313ccfbe149829f482fbff66d8c52"
      }
     },
     "aa3aedac71de4a1ea1feadd1d066ef3f": {
      "model_module": "@jupyter-widgets/controls",
      "model_module_version": "1.5.0",
      "model_name": "ButtonStyleModel",
      "state": {}
     },
     "ac1ccec717b041edafedfe6129ba5479": {
      "model_module": "@jupyter-widgets/base",
      "model_module_version": "1.2.0",
      "model_name": "LayoutModel",
      "state": {}
     },
     "acf1d9e6100c4539b27aa5ba007044ed": {
      "model_module": "@jupyter-widgets/base",
      "model_module_version": "1.2.0",
      "model_name": "LayoutModel",
      "state": {}
     },
     "acf5879b07b24845aac86361ddd3ee48": {
      "model_module": "@jupyter-widgets/base",
      "model_module_version": "1.2.0",
      "model_name": "LayoutModel",
      "state": {}
     },
     "ad5f28cdf4e54f7c846425bbdea5044f": {
      "model_module": "@jupyter-widgets/base",
      "model_module_version": "1.2.0",
      "model_name": "LayoutModel",
      "state": {}
     },
     "ad61a6a9a91941d184ad5fb05607ccb3": {
      "model_module": "@jupyter-widgets/controls",
      "model_module_version": "1.5.0",
      "model_name": "DescriptionStyleModel",
      "state": {
       "description_width": ""
      }
     },
     "ad63a6e1e5de4d278de32b7935d4f3db": {
      "model_module": "@jupyter-widgets/base",
      "model_module_version": "1.2.0",
      "model_name": "LayoutModel",
      "state": {}
     },
     "ae7019208d454a47b2d60c7d0d6dc41d": {
      "model_module": "@jupyter-widgets/controls",
      "model_module_version": "1.5.0",
      "model_name": "DescriptionStyleModel",
      "state": {
       "description_width": ""
      }
     },
     "aee1777e7967451dae8d1d17337a0671": {
      "model_module": "@jupyter-widgets/base",
      "model_module_version": "1.2.0",
      "model_name": "LayoutModel",
      "state": {}
     },
     "af5570df5ae14dc4842403b1844c1ae2": {
      "model_module": "@jupyter-widgets/controls",
      "model_module_version": "1.5.0",
      "model_name": "VBoxModel",
      "state": {
       "_dom_classes": [
        "bamboolib-hidden"
       ],
       "children": [
        "IPY_MODEL_c3d853a35b9c4d8791c3a0ff0b2b51ef"
       ],
       "layout": "IPY_MODEL_bd271b2f3ca3464098ecc21d07658b8b"
      }
     },
     "afa4125fc8644370a1bac6a8083bb3b5": {
      "model_module": "@jupyter-widgets/base",
      "model_module_version": "1.2.0",
      "model_name": "LayoutModel",
      "state": {}
     },
     "b050a6471f30447abf95cf01e811d3d3": {
      "model_module": "@jupyter-widgets/base",
      "model_module_version": "1.2.0",
      "model_name": "LayoutModel",
      "state": {}
     },
     "b133335b0fc04aaa9931c5dee2091064": {
      "model_module": "@jupyter-widgets/base",
      "model_module_version": "1.2.0",
      "model_name": "LayoutModel",
      "state": {}
     },
     "b1cf463c120a43738fa719b81af4cb7e": {
      "model_module": "@jupyter-widgets/controls",
      "model_module_version": "1.5.0",
      "model_name": "VBoxModel",
      "state": {
       "layout": "IPY_MODEL_acf5879b07b24845aac86361ddd3ee48"
      }
     },
     "b2b78e61b8654f7cad6d5295c17ef872": {
      "model_module": "@jupyter-widgets/base",
      "model_module_version": "1.2.0",
      "model_name": "LayoutModel",
      "state": {}
     },
     "b2f1c11537ab4bbc978bfe134fabff21": {
      "model_module": "bamboolib",
      "model_module_version": "1.15.0",
      "model_name": "ButtonModel",
      "state": {
       "_dom_classes": [
        "bamboolib-show-ui-button",
        "bamboolib-button-primary"
       ],
       "_model_module_version": "1.15.0",
       "_view_module_version": "1.15.0",
       "description": "Show bamboolib UI",
       "layout": "IPY_MODEL_aee1777e7967451dae8d1d17337a0671",
       "style": "IPY_MODEL_d90d85bd77784d65b8a4e616838c65d1"
      }
     },
     "b4605b01027e4f0882237efdf19e3788": {
      "model_module": "@jupyter-widgets/controls",
      "model_module_version": "1.5.0",
      "model_name": "HTMLModel",
      "state": {
       "layout": "IPY_MODEL_c412da8367c74ebfa2aa307862d7623d",
       "style": "IPY_MODEL_8c9063e098784f8480cbc99ee3439656",
       "value": "bamboolib is loading ..."
      }
     },
     "b56cb6dc7ba54f1aaa6d6c6c8f530068": {
      "model_module": "@jupyter-widgets/base",
      "model_module_version": "1.2.0",
      "model_name": "LayoutModel",
      "state": {}
     },
     "b5c212b408124562bd674a4d53ab8ac4": {
      "model_module": "@jupyter-widgets/base",
      "model_module_version": "1.2.0",
      "model_name": "LayoutModel",
      "state": {}
     },
     "b6ad63220a4b4e45b87cdce8c257f643": {
      "model_module": "@jupyter-widgets/base",
      "model_module_version": "1.2.0",
      "model_name": "LayoutModel",
      "state": {}
     },
     "b7816383fe1e44a8abf8a8fd48e1c366": {
      "model_module": "@jupyter-widgets/base",
      "model_module_version": "1.2.0",
      "model_name": "LayoutModel",
      "state": {}
     },
     "b7f15b2219344a37b43d8e3631f8db25": {
      "model_module": "@jupyter-widgets/controls",
      "model_module_version": "1.5.0",
      "model_name": "VBoxModel",
      "state": {
       "children": [
        "IPY_MODEL_61f043bedf91473386842e53b3f1d4bc",
        "IPY_MODEL_496931d0ee364a6ab7afc0b2b572365d"
       ],
       "layout": "IPY_MODEL_cfe4cc128daa46f6b9e70b5740ede0ad"
      }
     },
     "b90273b01b434d3b8b418ca013b7a519": {
      "model_module": "@jupyter-widgets/base",
      "model_module_version": "1.2.0",
      "model_name": "LayoutModel",
      "state": {}
     },
     "bd238ded29d74ecf95ad23716530f55f": {
      "model_module": "@jupyter-widgets/controls",
      "model_module_version": "1.5.0",
      "model_name": "DescriptionStyleModel",
      "state": {
       "description_width": ""
      }
     },
     "bd271b2f3ca3464098ecc21d07658b8b": {
      "model_module": "@jupyter-widgets/base",
      "model_module_version": "1.2.0",
      "model_name": "LayoutModel",
      "state": {}
     },
     "bd8a88e2a6e141d0bf48701ea3b04c68": {
      "model_module": "@jupyter-widgets/controls",
      "model_module_version": "1.5.0",
      "model_name": "VBoxModel",
      "state": {
       "children": [
        "IPY_MODEL_388b5bfa56bf4c88b607f7b61404f796",
        "IPY_MODEL_0a3fc35202314aed91806d934b2b8dd0"
       ],
       "layout": "IPY_MODEL_333ad7608c34426289e381a7bf4dacf6"
      }
     },
     "bde769c6b29340179c282b765e94a004": {
      "model_module": "@jupyter-widgets/controls",
      "model_module_version": "1.5.0",
      "model_name": "DescriptionStyleModel",
      "state": {
       "description_width": ""
      }
     },
     "be079bfbadce43e39fb860623adf62a4": {
      "model_module": "@jupyter-widgets/base",
      "model_module_version": "1.2.0",
      "model_name": "LayoutModel",
      "state": {}
     },
     "be4ea1925baf4c8f9c37ff7e0c123137": {
      "model_module": "@jupyter-widgets/controls",
      "model_module_version": "1.5.0",
      "model_name": "VBoxModel",
      "state": {
       "_dom_classes": [
        "bamboolib-hidden"
       ],
       "children": [
        "IPY_MODEL_5ca09cc2b1284ed3a1db949490e64903"
       ],
       "layout": "IPY_MODEL_0db063d1696741d38c41b5edd934f066"
      }
     },
     "c09512c03dab46d09ab3faa5710fa5a5": {
      "model_module": "@jupyter-widgets/controls",
      "model_module_version": "1.5.0",
      "model_name": "DescriptionStyleModel",
      "state": {
       "description_width": ""
      }
     },
     "c0cf742478cb4239b23193dd5b7d969d": {
      "model_module": "@jupyter-widgets/controls",
      "model_module_version": "1.5.0",
      "model_name": "HTMLModel",
      "state": {
       "layout": "IPY_MODEL_1808388da42042be9073be004a468816",
       "style": "IPY_MODEL_8d20570ed652410ab7e0a1482fc08fff",
       "value": "bamboolib is loading ..."
      }
     },
     "c1938716ecc446c0821eff1da9667cea": {
      "model_module": "@jupyter-widgets/base",
      "model_module_version": "1.2.0",
      "model_name": "LayoutModel",
      "state": {}
     },
     "c1afa3601ae7497387aeae5ad64ba92d": {
      "model_module": "@jupyter-widgets/controls",
      "model_module_version": "1.5.0",
      "model_name": "HTMLModel",
      "state": {
       "layout": "IPY_MODEL_a384aab266b8489b84900082e15764bd",
       "style": "IPY_MODEL_2dfc50f2052847bc84a9973182db961e",
       "value": "<div style=\"color:#721c24;background-color:#f8d7da;border-color:#f5c6cb;position: relative;padding: 8px 12px;margin-bottom: 12px;border: 1px solid transparent;border-radius: 5px;line-height: 1.5;\" class=\"bamboolib-notification bamboolib-notification-error\">\n<p>bamboolib does not work if the dataframe is not assigned to a variable. <b>Please assign the dataframe to a variable.</b></p>\n<br>\n<p>For example, maybe you typed something like:</p>\n<pre><code>    pd.read_csv(\"titanic.csv\")</code></pre>\n<br>\n<p>Please write it as follows:</p>\n<pre><code>    df = pd.read_csv(\"titanic.csv\")\n    df</code></pre>\n            </div>"
      }
     },
     "c29068d4b967460c93da18a5606bfca4": {
      "model_module": "@jupyter-widgets/base",
      "model_module_version": "1.2.0",
      "model_name": "LayoutModel",
      "state": {}
     },
     "c3d853a35b9c4d8791c3a0ff0b2b51ef": {
      "model_module": "@jupyter-widgets/controls",
      "model_module_version": "1.5.0",
      "model_name": "HTMLModel",
      "state": {
       "layout": "IPY_MODEL_cd04be7ac6a641dbb10b58c995524b00",
       "style": "IPY_MODEL_943e15aa71f24b2e892150e80eac6b99",
       "value": "<div style=\"color:#721c24;background-color:#f8d7da;border-color:#f5c6cb;position: relative;padding: 8px 12px;margin-bottom: 12px;border: 1px solid transparent;border-radius: 5px;line-height: 1.5;\" class=\"bamboolib-notification bamboolib-notification-error\">\n<p>bamboolib does not work if the dataframe is not assigned to a variable. <b>Please assign the dataframe to a variable.</b></p>\n<br>\n<p>For example, maybe you typed something like:</p>\n<pre><code>    pd.read_csv(\"titanic.csv\")</code></pre>\n<br>\n<p>Please write it as follows:</p>\n<pre><code>    df = pd.read_csv(\"titanic.csv\")\n    df</code></pre>\n            </div>"
      }
     },
     "c412da8367c74ebfa2aa307862d7623d": {
      "model_module": "@jupyter-widgets/base",
      "model_module_version": "1.2.0",
      "model_name": "LayoutModel",
      "state": {}
     },
     "c5ebf04c77614290aaec74f2ec8fc1dd": {
      "model_module": "@jupyter-widgets/base",
      "model_module_version": "1.2.0",
      "model_name": "LayoutModel",
      "state": {}
     },
     "c5fabe63f4f34ed38566e4f1490a2854": {
      "model_module": "@jupyter-widgets/base",
      "model_module_version": "1.2.0",
      "model_name": "LayoutModel",
      "state": {}
     },
     "c76429b034944499b91ef7ea0bc737a6": {
      "model_module": "@jupyter-widgets/controls",
      "model_module_version": "1.5.0",
      "model_name": "DescriptionStyleModel",
      "state": {
       "description_width": ""
      }
     },
     "c7b36cb2a18f41f8a550d9b39cbae518": {
      "model_module": "@jupyter-widgets/base",
      "model_module_version": "1.2.0",
      "model_name": "LayoutModel",
      "state": {}
     },
     "c91506a097814b84bfaa88a754cd7b48": {
      "model_module": "@jupyter-widgets/controls",
      "model_module_version": "1.5.0",
      "model_name": "HBoxModel",
      "state": {
       "children": [
        "IPY_MODEL_fa8ecc0da9e64946880003aba04b5f9b"
       ],
       "layout": "IPY_MODEL_fd9b24a939fe485984a5a4b5f12d8189"
      }
     },
     "c9e33f72864c4adda2adfffa15a9017d": {
      "model_module": "@jupyter-widgets/base",
      "model_module_version": "1.2.0",
      "model_name": "LayoutModel",
      "state": {}
     },
     "cb14244019cd418391da18df5e8e6d2c": {
      "model_module": "@jupyter-widgets/base",
      "model_module_version": "1.2.0",
      "model_name": "LayoutModel",
      "state": {}
     },
     "cba45c1266b74730877451cdd6447233": {
      "model_module": "@jupyter-widgets/base",
      "model_module_version": "1.2.0",
      "model_name": "LayoutModel",
      "state": {}
     },
     "cd04be7ac6a641dbb10b58c995524b00": {
      "model_module": "@jupyter-widgets/base",
      "model_module_version": "1.2.0",
      "model_name": "LayoutModel",
      "state": {}
     },
     "ce0c01a22290473da28fe37d84a60b32": {
      "model_module": "@jupyter-widgets/controls",
      "model_module_version": "1.5.0",
      "model_name": "HBoxModel",
      "state": {
       "children": [
        "IPY_MODEL_b2f1c11537ab4bbc978bfe134fabff21"
       ],
       "layout": "IPY_MODEL_2d69fc7c92894e55a8676adf9c4d7393"
      }
     },
     "ce31a0bb574f4d0799171fc37ff77014": {
      "model_module": "@jupyter-widgets/controls",
      "model_module_version": "1.5.0",
      "model_name": "DescriptionStyleModel",
      "state": {
       "description_width": ""
      }
     },
     "ce3f4804ac7a47638c442dd2dcc837b7": {
      "model_module": "@jupyter-widgets/controls",
      "model_module_version": "1.5.0",
      "model_name": "HTMLModel",
      "state": {
       "layout": "IPY_MODEL_8e07215b21ca419b8968e0d7967e458a",
       "style": "IPY_MODEL_511d2ffc543c421faa229caec3b251b1",
       "value": "<div style=\"color:#721c24;background-color:#f8d7da;border-color:#f5c6cb;position: relative;padding: 8px 12px;margin-bottom: 12px;border: 1px solid transparent;border-radius: 5px;line-height: 1.5;\" class=\"bamboolib-notification bamboolib-notification-error\">\n<p>bamboolib does not work if the dataframe is not assigned to a variable. <b>Please assign the dataframe to a variable.</b></p>\n<br>\n<p>For example, maybe you typed something like:</p>\n<pre><code>    pd.read_csv(\"titanic.csv\")</code></pre>\n<br>\n<p>Please write it as follows:</p>\n<pre><code>    df = pd.read_csv(\"titanic.csv\")\n    df</code></pre>\n            </div>"
      }
     },
     "cf4339b09a504912adb138a0c7343a15": {
      "model_module": "@jupyter-widgets/base",
      "model_module_version": "1.2.0",
      "model_name": "LayoutModel",
      "state": {}
     },
     "cfe4cc128daa46f6b9e70b5740ede0ad": {
      "model_module": "@jupyter-widgets/base",
      "model_module_version": "1.2.0",
      "model_name": "LayoutModel",
      "state": {}
     },
     "d011b7efff33407bba609933f2251ba8": {
      "model_module": "@jupyter-widgets/controls",
      "model_module_version": "1.5.0",
      "model_name": "HTMLModel",
      "state": {
       "layout": "IPY_MODEL_eee2a3bca9434fc4aa919c0c74fc8dd6",
       "style": "IPY_MODEL_27785464371545ecb524f4bf61c63081",
       "value": "bamboolib is loading ..."
      }
     },
     "d02723a79efa4dffa613d8ee9e348c90": {
      "model_module": "@jupyter-widgets/base",
      "model_module_version": "1.2.0",
      "model_name": "LayoutModel",
      "state": {}
     },
     "d063bdfb832d4c3d861e20c4d6ccacfc": {
      "model_module": "bamboolib",
      "model_module_version": "1.15.0",
      "model_name": "ButtonModel",
      "state": {
       "_dom_classes": [
        "bamboolib-show-ui-button",
        "bamboolib-button-primary"
       ],
       "_model_module_version": "1.15.0",
       "_view_module_version": "1.15.0",
       "description": "Show bamboolib UI",
       "layout": "IPY_MODEL_90df204d38e448ceb4c2a74def671d70",
       "style": "IPY_MODEL_1361b5bb72ea4e8bb0998e554f539ae9"
      }
     },
     "d157b9f27e694c76afdeb207984864ab": {
      "model_module": "@jupyter-widgets/controls",
      "model_module_version": "1.5.0",
      "model_name": "VBoxModel",
      "state": {
       "_dom_classes": [
        "bamboolib-hidden"
       ],
       "children": [
        "IPY_MODEL_570ab830df9e4ccea3cb72ed61d329be"
       ],
       "layout": "IPY_MODEL_f941c4aa7e14471c8a1a9fc9caba5b97"
      }
     },
     "d19609f293b14ffb9ce0befd0ec2624a": {
      "model_module": "@jupyter-widgets/base",
      "model_module_version": "1.2.0",
      "model_name": "LayoutModel",
      "state": {}
     },
     "d466a76f3242465888b386b2f866bad8": {
      "model_module": "@jupyter-widgets/controls",
      "model_module_version": "1.5.0",
      "model_name": "VBoxModel",
      "state": {
       "children": [
        "IPY_MODEL_ce0c01a22290473da28fe37d84a60b32",
        "IPY_MODEL_1b0c840f870c4c2e945bb9b7766acf07"
       ],
       "layout": "IPY_MODEL_8c6674f5494d4b99bf27d513c7c372ab"
      }
     },
     "d5add52fb49f4579ab9ec862370ca712": {
      "model_module": "@jupyter-widgets/controls",
      "model_module_version": "1.5.0",
      "model_name": "ButtonStyleModel",
      "state": {}
     },
     "d6502ef3360243abad9f58aebc07a568": {
      "model_module": "@jupyter-widgets/base",
      "model_module_version": "1.2.0",
      "model_name": "LayoutModel",
      "state": {}
     },
     "d6912cbb2ba74f6893fd1c8986b642e6": {
      "model_module": "@jupyter-widgets/base",
      "model_module_version": "1.2.0",
      "model_name": "LayoutModel",
      "state": {}
     },
     "d7f195b14c6c4c9eac193ffc63b27f06": {
      "model_module": "@jupyter-widgets/controls",
      "model_module_version": "1.5.0",
      "model_name": "VBoxModel",
      "state": {
       "children": [
        "IPY_MODEL_631f25e905404e6dad182da05c60c100",
        "IPY_MODEL_fd5990c3c88e4bb9a8234d42f2fbbc35"
       ],
       "layout": "IPY_MODEL_c5ebf04c77614290aaec74f2ec8fc1dd"
      }
     },
     "d81dab1ff2004587907c962acea34b37": {
      "model_module": "@jupyter-widgets/base",
      "model_module_version": "1.2.0",
      "model_name": "LayoutModel",
      "state": {}
     },
     "d82b9cd1132f4364a02009ba3d419df0": {
      "model_module": "@jupyter-widgets/base",
      "model_module_version": "1.2.0",
      "model_name": "LayoutModel",
      "state": {}
     },
     "d84c56ab62a146feb33336b0ba8fca19": {
      "model_module": "@jupyter-widgets/base",
      "model_module_version": "1.2.0",
      "model_name": "LayoutModel",
      "state": {}
     },
     "d879b119353a4ca4b4a7b1f57c6b9fdf": {
      "model_module": "@jupyter-widgets/controls",
      "model_module_version": "1.5.0",
      "model_name": "HBoxModel",
      "state": {
       "children": [
        "IPY_MODEL_a44ea568414f4fb0a57e66f3f5539491"
       ],
       "layout": "IPY_MODEL_afa4125fc8644370a1bac6a8083bb3b5"
      }
     },
     "d8dfe74684224392914e282569267914": {
      "model_module": "@jupyter-widgets/base",
      "model_module_version": "1.2.0",
      "model_name": "LayoutModel",
      "state": {}
     },
     "d9047e60162c417fb900b13a5bcbdb88": {
      "model_module": "@jupyter-widgets/base",
      "model_module_version": "1.2.0",
      "model_name": "LayoutModel",
      "state": {}
     },
     "d90d85bd77784d65b8a4e616838c65d1": {
      "model_module": "@jupyter-widgets/controls",
      "model_module_version": "1.5.0",
      "model_name": "ButtonStyleModel",
      "state": {}
     },
     "d9532678038a4a74b87157994f619d86": {
      "model_module": "@jupyter-widgets/base",
      "model_module_version": "1.2.0",
      "model_name": "LayoutModel",
      "state": {}
     },
     "db6cbf8545c24f18969df48fcc00d1bd": {
      "model_module": "@jupyter-widgets/base",
      "model_module_version": "1.2.0",
      "model_name": "LayoutModel",
      "state": {}
     },
     "db71b41513094199ba8767488e452601": {
      "model_module": "@jupyter-widgets/controls",
      "model_module_version": "1.5.0",
      "model_name": "HBoxModel",
      "state": {
       "children": [
        "IPY_MODEL_5fb0065dab7a4e7aaf992906044f10cf"
       ],
       "layout": "IPY_MODEL_0b314afdce794d97896ac10097a46272"
      }
     },
     "dbf8b23b8ae241718377217b256d5328": {
      "model_module": "@jupyter-widgets/controls",
      "model_module_version": "1.5.0",
      "model_name": "ButtonStyleModel",
      "state": {}
     },
     "dc0720569f08464ab7ab1b2770b32211": {
      "model_module": "@jupyter-widgets/controls",
      "model_module_version": "1.5.0",
      "model_name": "VBoxModel",
      "state": {
       "children": [
        "IPY_MODEL_00a278c03f084e8db5584de37aed7a72",
        "IPY_MODEL_345879ff9de0489cb7ea3987c99f7594"
       ],
       "layout": "IPY_MODEL_b2b78e61b8654f7cad6d5295c17ef872"
      }
     },
     "dc272a589b8b4b6b89911ec6ae055109": {
      "model_module": "@jupyter-widgets/base",
      "model_module_version": "1.2.0",
      "model_name": "LayoutModel",
      "state": {}
     },
     "dee258ce261046b2ab7a673509d66598": {
      "model_module": "bamboolib",
      "model_module_version": "1.15.0",
      "model_name": "ButtonModel",
      "state": {
       "_dom_classes": [
        "bamboolib-show-ui-button",
        "bamboolib-button-primary"
       ],
       "_model_module_version": "1.15.0",
       "_view_module_version": "1.15.0",
       "description": "Show bamboolib UI",
       "layout": "IPY_MODEL_4eddbdbfcdc848c7a8372d9bfedd82e9",
       "style": "IPY_MODEL_7facb8d420a64480b67c92af4b526497"
      }
     },
     "def77f2cd9354be39e9a696bb8102965": {
      "model_module": "@jupyter-widgets/controls",
      "model_module_version": "1.5.0",
      "model_name": "HTMLModel",
      "state": {
       "layout": "IPY_MODEL_70247f0fc5cb47d0907360b2a59fce68",
       "style": "IPY_MODEL_3af940f73b9b46bebd3f7e9a3a0ee38f",
       "value": "<div style=\"color:#721c24;background-color:#f8d7da;border-color:#f5c6cb;position: relative;padding: 8px 12px;margin-bottom: 12px;border: 1px solid transparent;border-radius: 5px;line-height: 1.5;\" class=\"bamboolib-notification bamboolib-notification-error\">\n<p>bamboolib does not work if the dataframe is not assigned to a variable. <b>Please assign the dataframe to a variable.</b></p>\n<br>\n<p>For example, maybe you typed something like:</p>\n<pre><code>    pd.read_csv(\"titanic.csv\")</code></pre>\n<br>\n<p>Please write it as follows:</p>\n<pre><code>    df = pd.read_csv(\"titanic.csv\")\n    df</code></pre>\n            </div>"
      }
     },
     "df70b36e1672406b83003909f2ecfb78": {
      "model_module": "@jupyter-widgets/base",
      "model_module_version": "1.2.0",
      "model_name": "LayoutModel",
      "state": {}
     },
     "dfd3bf5d32624b2e8c944476a2666d8d": {
      "model_module": "@jupyter-widgets/base",
      "model_module_version": "1.2.0",
      "model_name": "LayoutModel",
      "state": {}
     },
     "e01aaee05486438d9afb0bea2099e20c": {
      "model_module": "@jupyter-widgets/controls",
      "model_module_version": "1.5.0",
      "model_name": "DescriptionStyleModel",
      "state": {
       "description_width": ""
      }
     },
     "e256e2868ce5492aad3f9c78a195d327": {
      "model_module": "@jupyter-widgets/controls",
      "model_module_version": "1.5.0",
      "model_name": "HTMLModel",
      "state": {
       "layout": "IPY_MODEL_ea8c7b4dedf7433aae096a9c3415ee4c",
       "style": "IPY_MODEL_ad61a6a9a91941d184ad5fb05607ccb3",
       "value": "bamboolib is loading ..."
      }
     },
     "e2ce3da0eb7e46cab2820b99c2225874": {
      "model_module": "@jupyter-widgets/controls",
      "model_module_version": "1.5.0",
      "model_name": "DescriptionStyleModel",
      "state": {
       "description_width": ""
      }
     },
     "e3aa4107f4854e51a3485b25ba20228c": {
      "model_module": "@jupyter-widgets/output",
      "model_module_version": "1.0.0",
      "model_name": "OutputModel",
      "state": {
       "layout": "IPY_MODEL_f5b45e81bc314e9fac94621efd6ff24b",
       "outputs": [
        {
         "data": {
          "text/html": "<div>\n<style scoped>\n    .dataframe tbody tr th:only-of-type {\n        vertical-align: middle;\n    }\n\n    .dataframe tbody tr th {\n        vertical-align: top;\n    }\n\n    .dataframe thead th {\n        text-align: right;\n    }\n</style>\n<table border=\"1\" class=\"dataframe\">\n  <thead>\n    <tr style=\"text-align: right;\">\n      <th></th>\n      <th>tfidf</th>\n    </tr>\n  </thead>\n  <tbody>\n    <tr>\n      <th>7</th>\n      <td>0.591809</td>\n    </tr>\n    <tr>\n      <th>5</th>\n      <td>0.566574</td>\n    </tr>\n    <tr>\n      <th>z</th>\n      <td>0.335997</td>\n    </tr>\n    <tr>\n      <th>k</th>\n      <td>0.291636</td>\n    </tr>\n    <tr>\n      <th>d</th>\n      <td>0.286150</td>\n    </tr>\n    <tr>\n      <th>...</th>\n      <td>...</td>\n    </tr>\n    <tr>\n      <th>?</th>\n      <td>0.000000</td>\n    </tr>\n    <tr>\n      <th>&gt;</th>\n      <td>0.000000</td>\n    </tr>\n    <tr>\n      <th>=</th>\n      <td>0.000000</td>\n    </tr>\n    <tr>\n      <th>&lt;</th>\n      <td>0.000000</td>\n    </tr>\n    <tr>\n      <th>™</th>\n      <td>0.000000</td>\n    </tr>\n  </tbody>\n</table>\n<p>130 rows × 1 columns</p>\n</div>",
          "text/plain": "       tfidf\n7   0.591809\n5   0.566574\nz   0.335997\nk   0.291636\nd   0.286150\n..       ...\n?   0.000000\n>   0.000000\n=   0.000000\n<   0.000000\n™   0.000000\n\n[130 rows x 1 columns]"
         },
         "metadata": {},
         "output_type": "display_data"
        }
       ]
      }
     },
     "e3b6f7f3ed024a5892f3aa15ac18a00b": {
      "model_module": "@jupyter-widgets/controls",
      "model_module_version": "1.5.0",
      "model_name": "HBoxModel",
      "state": {
       "children": [
        "IPY_MODEL_d063bdfb832d4c3d861e20c4d6ccacfc"
       ],
       "layout": "IPY_MODEL_cb14244019cd418391da18df5e8e6d2c"
      }
     },
     "e59aa8059f394e07a0a61965da0d60a4": {
      "model_module": "@jupyter-widgets/controls",
      "model_module_version": "1.5.0",
      "model_name": "DescriptionStyleModel",
      "state": {
       "description_width": ""
      }
     },
     "e8208469cb524bf8b1adeedd0cb1493a": {
      "model_module": "@jupyter-widgets/base",
      "model_module_version": "1.2.0",
      "model_name": "LayoutModel",
      "state": {}
     },
     "ea8c7b4dedf7433aae096a9c3415ee4c": {
      "model_module": "@jupyter-widgets/base",
      "model_module_version": "1.2.0",
      "model_name": "LayoutModel",
      "state": {}
     },
     "eb1a3e5beb2548a58fd2eda400ff0886": {
      "model_module": "@jupyter-widgets/base",
      "model_module_version": "1.2.0",
      "model_name": "LayoutModel",
      "state": {}
     },
     "ec58388d7dff489b8c59f3e3c6acfdfe": {
      "model_module": "@jupyter-widgets/base",
      "model_module_version": "1.2.0",
      "model_name": "LayoutModel",
      "state": {}
     },
     "ecca4dbc4d824855861b4ba8008f2390": {
      "model_module": "@jupyter-widgets/base",
      "model_module_version": "1.2.0",
      "model_name": "LayoutModel",
      "state": {}
     },
     "eeb8510299a842e4a21d3c3080c4dbca": {
      "model_module": "@jupyter-widgets/controls",
      "model_module_version": "1.5.0",
      "model_name": "DescriptionStyleModel",
      "state": {
       "description_width": ""
      }
     },
     "eee2a3bca9434fc4aa919c0c74fc8dd6": {
      "model_module": "@jupyter-widgets/base",
      "model_module_version": "1.2.0",
      "model_name": "LayoutModel",
      "state": {}
     },
     "f009ea77c90148108acd629bf69ad79a": {
      "model_module": "@jupyter-widgets/base",
      "model_module_version": "1.2.0",
      "model_name": "LayoutModel",
      "state": {}
     },
     "f1a78f4cc09e4f3385319fc3baca5eb9": {
      "model_module": "@jupyter-widgets/base",
      "model_module_version": "1.2.0",
      "model_name": "LayoutModel",
      "state": {}
     },
     "f26a2991758a4f089f77972b134e6222": {
      "model_module": "@jupyter-widgets/base",
      "model_module_version": "1.2.0",
      "model_name": "LayoutModel",
      "state": {}
     },
     "f31648686ebe4dbfa191c16585a400b9": {
      "model_module": "@jupyter-widgets/controls",
      "model_module_version": "1.5.0",
      "model_name": "HTMLModel",
      "state": {
       "layout": "IPY_MODEL_14e4a9905aa343978072abbbc70d9322",
       "style": "IPY_MODEL_54b62cba67b44cc6b0f55d5fa9d187d3",
       "value": "bamboolib is loading ..."
      }
     },
     "f5b45e81bc314e9fac94621efd6ff24b": {
      "model_module": "@jupyter-widgets/base",
      "model_module_version": "1.2.0",
      "model_name": "LayoutModel",
      "state": {}
     },
     "f64fcc250ac04b3ebd1f6038990b4fb9": {
      "model_module": "@jupyter-widgets/base",
      "model_module_version": "1.2.0",
      "model_name": "LayoutModel",
      "state": {}
     },
     "f941c4aa7e14471c8a1a9fc9caba5b97": {
      "model_module": "@jupyter-widgets/base",
      "model_module_version": "1.2.0",
      "model_name": "LayoutModel",
      "state": {}
     },
     "fa8ecc0da9e64946880003aba04b5f9b": {
      "model_module": "bamboolib",
      "model_module_version": "1.15.0",
      "model_name": "ButtonModel",
      "state": {
       "_dom_classes": [
        "bamboolib-show-ui-button",
        "bamboolib-button-primary"
       ],
       "_model_module_version": "1.15.0",
       "_view_module_version": "1.15.0",
       "description": "Show bamboolib UI",
       "layout": "IPY_MODEL_b90273b01b434d3b8b418ca013b7a519",
       "style": "IPY_MODEL_59fd4517286a407ba56a437283c6c0d0"
      }
     },
     "fc22bc68b5834328a7841efdd879d1ad": {
      "model_module": "@jupyter-widgets/output",
      "model_module_version": "1.0.0",
      "model_name": "OutputModel",
      "state": {
       "layout": "IPY_MODEL_c5fabe63f4f34ed38566e4f1490a2854",
       "outputs": [
        {
         "data": {
          "text/html": "<div>\n<style scoped>\n    .dataframe tbody tr th:only-of-type {\n        vertical-align: middle;\n    }\n\n    .dataframe tbody tr th {\n        vertical-align: top;\n    }\n\n    .dataframe thead th {\n        text-align: right;\n    }\n</style>\n<table border=\"1\" class=\"dataframe\">\n  <thead>\n    <tr style=\"text-align: right;\">\n      <th></th>\n      <th>password</th>\n      <th>strength</th>\n    </tr>\n  </thead>\n  <tbody>\n    <tr>\n      <th>367579</th>\n      <td>NaN</td>\n      <td>0</td>\n    </tr>\n  </tbody>\n</table>\n</div>",
          "text/plain": "       password  strength\n367579      NaN         0"
         },
         "metadata": {},
         "output_type": "display_data"
        }
       ]
      }
     },
     "fc4516052f22451592a0ee7a371d304d": {
      "model_module": "@jupyter-widgets/controls",
      "model_module_version": "1.5.0",
      "model_name": "HTMLModel",
      "state": {
       "layout": "IPY_MODEL_ad5f28cdf4e54f7c846425bbdea5044f",
       "style": "IPY_MODEL_0f7488f4af4e47be8d22a2832f1ac8dd",
       "value": "bamboolib is loading ..."
      }
     },
     "fd5990c3c88e4bb9a8234d42f2fbbc35": {
      "model_module": "@jupyter-widgets/controls",
      "model_module_version": "1.5.0",
      "model_name": "VBoxModel",
      "state": {
       "children": [
        "IPY_MODEL_1f68a81495d94e318b342b270d2581f4",
        "IPY_MODEL_be4ea1925baf4c8f9c37ff7e0c123137"
       ],
       "layout": "IPY_MODEL_2b90f1d29d924050b8e97c26983ecdc2"
      }
     },
     "fd9b24a939fe485984a5a4b5f12d8189": {
      "model_module": "@jupyter-widgets/base",
      "model_module_version": "1.2.0",
      "model_name": "LayoutModel",
      "state": {}
     },
     "fe6054d434674560aafff215364032f1": {
      "model_module": "@jupyter-widgets/base",
      "model_module_version": "1.2.0",
      "model_name": "LayoutModel",
      "state": {}
     },
     "ff4f951686d643269cc6637cf919276b": {
      "model_module": "@jupyter-widgets/controls",
      "model_module_version": "1.5.0",
      "model_name": "DescriptionStyleModel",
      "state": {
       "description_width": ""
      }
     },
     "ffe571ba5df543438391cc12faf2166c": {
      "model_module": "@jupyter-widgets/base",
      "model_module_version": "1.2.0",
      "model_name": "LayoutModel",
      "state": {}
     },
     "ffec2472a7464f199c288b06657fceeb": {
      "model_module": "@jupyter-widgets/controls",
      "model_module_version": "1.5.0",
      "model_name": "HTMLModel",
      "state": {
       "layout": "IPY_MODEL_7a89dc81683044c791fa670671acc7fe",
       "style": "IPY_MODEL_2a820f5ce98d4cceb172a9a6ec789a6a",
       "value": "bamboolib is loading ..."
      }
     }
    },
    "version_major": 2,
    "version_minor": 0
   }
  }
 },
 "nbformat": 4,
 "nbformat_minor": 2
}
